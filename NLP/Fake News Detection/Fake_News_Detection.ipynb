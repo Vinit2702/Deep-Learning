{
  "cells": [
    {
      "cell_type": "markdown",
      "metadata": {
        "id": "view-in-github",
        "colab_type": "text"
      },
      "source": [
        "<a href=\"https://colab.research.google.com/github/Vinit2702/Expt3/blob/master/Fake_News_Detection.ipynb\" target=\"_parent\"><img src=\"https://colab.research.google.com/assets/colab-badge.svg\" alt=\"Open In Colab\"/></a>"
      ]
    },
    {
      "cell_type": "markdown",
      "metadata": {
        "id": "S_vwyn-1tSja"
      },
      "source": [
        "# Get the text Data"
      ]
    },
    {
      "cell_type": "code",
      "execution_count": 1,
      "metadata": {
        "id": "9b_-vFaCu8ws"
      },
      "outputs": [],
      "source": [
        "# Installing kaggle \n",
        "!pip install -q kaggle"
      ]
    },
    {
      "cell_type": "code",
      "execution_count": 2,
      "metadata": {
        "colab": {
          "base_uri": "https://localhost:8080/",
          "height": 90
        },
        "id": "ajmjORFxvYRL",
        "outputId": "cc915ece-d5c1-4b1b-e920-ae6f312e1691"
      },
      "outputs": [
        {
          "output_type": "display_data",
          "data": {
            "text/plain": [
              "<IPython.core.display.HTML object>"
            ],
            "text/html": [
              "\n",
              "     <input type=\"file\" id=\"files-1905e4cb-3b3b-4473-a1e8-4276ca11f5ce\" name=\"files[]\" multiple disabled\n",
              "        style=\"border:none\" />\n",
              "     <output id=\"result-1905e4cb-3b3b-4473-a1e8-4276ca11f5ce\">\n",
              "      Upload widget is only available when the cell has been executed in the\n",
              "      current browser session. Please rerun this cell to enable.\n",
              "      </output>\n",
              "      <script>// Copyright 2017 Google LLC\n",
              "//\n",
              "// Licensed under the Apache License, Version 2.0 (the \"License\");\n",
              "// you may not use this file except in compliance with the License.\n",
              "// You may obtain a copy of the License at\n",
              "//\n",
              "//      http://www.apache.org/licenses/LICENSE-2.0\n",
              "//\n",
              "// Unless required by applicable law or agreed to in writing, software\n",
              "// distributed under the License is distributed on an \"AS IS\" BASIS,\n",
              "// WITHOUT WARRANTIES OR CONDITIONS OF ANY KIND, either express or implied.\n",
              "// See the License for the specific language governing permissions and\n",
              "// limitations under the License.\n",
              "\n",
              "/**\n",
              " * @fileoverview Helpers for google.colab Python module.\n",
              " */\n",
              "(function(scope) {\n",
              "function span(text, styleAttributes = {}) {\n",
              "  const element = document.createElement('span');\n",
              "  element.textContent = text;\n",
              "  for (const key of Object.keys(styleAttributes)) {\n",
              "    element.style[key] = styleAttributes[key];\n",
              "  }\n",
              "  return element;\n",
              "}\n",
              "\n",
              "// Max number of bytes which will be uploaded at a time.\n",
              "const MAX_PAYLOAD_SIZE = 100 * 1024;\n",
              "\n",
              "function _uploadFiles(inputId, outputId) {\n",
              "  const steps = uploadFilesStep(inputId, outputId);\n",
              "  const outputElement = document.getElementById(outputId);\n",
              "  // Cache steps on the outputElement to make it available for the next call\n",
              "  // to uploadFilesContinue from Python.\n",
              "  outputElement.steps = steps;\n",
              "\n",
              "  return _uploadFilesContinue(outputId);\n",
              "}\n",
              "\n",
              "// This is roughly an async generator (not supported in the browser yet),\n",
              "// where there are multiple asynchronous steps and the Python side is going\n",
              "// to poll for completion of each step.\n",
              "// This uses a Promise to block the python side on completion of each step,\n",
              "// then passes the result of the previous step as the input to the next step.\n",
              "function _uploadFilesContinue(outputId) {\n",
              "  const outputElement = document.getElementById(outputId);\n",
              "  const steps = outputElement.steps;\n",
              "\n",
              "  const next = steps.next(outputElement.lastPromiseValue);\n",
              "  return Promise.resolve(next.value.promise).then((value) => {\n",
              "    // Cache the last promise value to make it available to the next\n",
              "    // step of the generator.\n",
              "    outputElement.lastPromiseValue = value;\n",
              "    return next.value.response;\n",
              "  });\n",
              "}\n",
              "\n",
              "/**\n",
              " * Generator function which is called between each async step of the upload\n",
              " * process.\n",
              " * @param {string} inputId Element ID of the input file picker element.\n",
              " * @param {string} outputId Element ID of the output display.\n",
              " * @return {!Iterable<!Object>} Iterable of next steps.\n",
              " */\n",
              "function* uploadFilesStep(inputId, outputId) {\n",
              "  const inputElement = document.getElementById(inputId);\n",
              "  inputElement.disabled = false;\n",
              "\n",
              "  const outputElement = document.getElementById(outputId);\n",
              "  outputElement.innerHTML = '';\n",
              "\n",
              "  const pickedPromise = new Promise((resolve) => {\n",
              "    inputElement.addEventListener('change', (e) => {\n",
              "      resolve(e.target.files);\n",
              "    });\n",
              "  });\n",
              "\n",
              "  const cancel = document.createElement('button');\n",
              "  inputElement.parentElement.appendChild(cancel);\n",
              "  cancel.textContent = 'Cancel upload';\n",
              "  const cancelPromise = new Promise((resolve) => {\n",
              "    cancel.onclick = () => {\n",
              "      resolve(null);\n",
              "    };\n",
              "  });\n",
              "\n",
              "  // Wait for the user to pick the files.\n",
              "  const files = yield {\n",
              "    promise: Promise.race([pickedPromise, cancelPromise]),\n",
              "    response: {\n",
              "      action: 'starting',\n",
              "    }\n",
              "  };\n",
              "\n",
              "  cancel.remove();\n",
              "\n",
              "  // Disable the input element since further picks are not allowed.\n",
              "  inputElement.disabled = true;\n",
              "\n",
              "  if (!files) {\n",
              "    return {\n",
              "      response: {\n",
              "        action: 'complete',\n",
              "      }\n",
              "    };\n",
              "  }\n",
              "\n",
              "  for (const file of files) {\n",
              "    const li = document.createElement('li');\n",
              "    li.append(span(file.name, {fontWeight: 'bold'}));\n",
              "    li.append(span(\n",
              "        `(${file.type || 'n/a'}) - ${file.size} bytes, ` +\n",
              "        `last modified: ${\n",
              "            file.lastModifiedDate ? file.lastModifiedDate.toLocaleDateString() :\n",
              "                                    'n/a'} - `));\n",
              "    const percent = span('0% done');\n",
              "    li.appendChild(percent);\n",
              "\n",
              "    outputElement.appendChild(li);\n",
              "\n",
              "    const fileDataPromise = new Promise((resolve) => {\n",
              "      const reader = new FileReader();\n",
              "      reader.onload = (e) => {\n",
              "        resolve(e.target.result);\n",
              "      };\n",
              "      reader.readAsArrayBuffer(file);\n",
              "    });\n",
              "    // Wait for the data to be ready.\n",
              "    let fileData = yield {\n",
              "      promise: fileDataPromise,\n",
              "      response: {\n",
              "        action: 'continue',\n",
              "      }\n",
              "    };\n",
              "\n",
              "    // Use a chunked sending to avoid message size limits. See b/62115660.\n",
              "    let position = 0;\n",
              "    do {\n",
              "      const length = Math.min(fileData.byteLength - position, MAX_PAYLOAD_SIZE);\n",
              "      const chunk = new Uint8Array(fileData, position, length);\n",
              "      position += length;\n",
              "\n",
              "      const base64 = btoa(String.fromCharCode.apply(null, chunk));\n",
              "      yield {\n",
              "        response: {\n",
              "          action: 'append',\n",
              "          file: file.name,\n",
              "          data: base64,\n",
              "        },\n",
              "      };\n",
              "\n",
              "      let percentDone = fileData.byteLength === 0 ?\n",
              "          100 :\n",
              "          Math.round((position / fileData.byteLength) * 100);\n",
              "      percent.textContent = `${percentDone}% done`;\n",
              "\n",
              "    } while (position < fileData.byteLength);\n",
              "  }\n",
              "\n",
              "  // All done.\n",
              "  yield {\n",
              "    response: {\n",
              "      action: 'complete',\n",
              "    }\n",
              "  };\n",
              "}\n",
              "\n",
              "scope.google = scope.google || {};\n",
              "scope.google.colab = scope.google.colab || {};\n",
              "scope.google.colab._files = {\n",
              "  _uploadFiles,\n",
              "  _uploadFilesContinue,\n",
              "};\n",
              "})(self);\n",
              "</script> "
            ]
          },
          "metadata": {}
        },
        {
          "output_type": "stream",
          "name": "stdout",
          "text": [
            "Saving kaggle.json to kaggle.json\n"
          ]
        },
        {
          "output_type": "execute_result",
          "data": {
            "text/plain": [
              "{'kaggle.json': b'{\"username\":\"vinitkhedu\",\"key\":\"048a9c2f7dd036b48fbf7807cdd1ba5a\"}'}"
            ]
          },
          "metadata": {},
          "execution_count": 2
        }
      ],
      "source": [
        "# To upload kaggle json file from the local system\n",
        "from google.colab import files\n",
        "files.upload()"
      ]
    },
    {
      "cell_type": "code",
      "execution_count": 3,
      "metadata": {
        "id": "7u8F-9ufvmWn"
      },
      "outputs": [],
      "source": [
        "# Create a kaggle directory\n",
        "!mkdir ~/.kaggle"
      ]
    },
    {
      "cell_type": "code",
      "execution_count": 4,
      "metadata": {
        "id": "LCIj7nu9vthh"
      },
      "outputs": [],
      "source": [
        "# Copy the kaggle.json to folder created \n",
        "!cp kaggle.json ~/.kaggle/"
      ]
    },
    {
      "cell_type": "code",
      "execution_count": 5,
      "metadata": {
        "id": "JbXJtWyxv3UV"
      },
      "outputs": [],
      "source": [
        "# Permission for the json to act\n",
        "!chmod 600 ~/.kaggle/kaggle.json"
      ]
    },
    {
      "cell_type": "code",
      "execution_count": 6,
      "metadata": {
        "colab": {
          "base_uri": "https://localhost:8080/"
        },
        "id": "aYuFUWrbwEuw",
        "outputId": "678ea719-6e9a-4e69-bec9-a5aa6e95b10f"
      },
      "outputs": [
        {
          "output_type": "stream",
          "name": "stdout",
          "text": [
            "Downloading fake-or-real-news.zip to /content\n",
            " 44% 5.00M/11.5M [00:00<00:00, 32.7MB/s]\n",
            "100% 11.5M/11.5M [00:00<00:00, 55.5MB/s]\n"
          ]
        }
      ],
      "source": [
        "!kaggle datasets download -d jillanisofttech/fake-or-real-news"
      ]
    },
    {
      "cell_type": "code",
      "execution_count": 7,
      "metadata": {
        "colab": {
          "base_uri": "https://localhost:8080/"
        },
        "id": "3XTBz3h9wPZo",
        "outputId": "5a42d2fb-b323-4be2-f468-7dc10aa5e809"
      },
      "outputs": [
        {
          "output_type": "stream",
          "name": "stdout",
          "text": [
            "Archive:  fake-or-real-news.zip\n",
            "  inflating: fake_or_real_news.csv   \n"
          ]
        }
      ],
      "source": [
        "!unzip fake-or-real-news.zip"
      ]
    },
    {
      "cell_type": "markdown",
      "metadata": {
        "id": "AiW8hlfVwxdX"
      },
      "source": [
        "# Visualizing the text dataset"
      ]
    },
    {
      "cell_type": "code",
      "execution_count": 8,
      "metadata": {
        "colab": {
          "base_uri": "https://localhost:8080/",
          "height": 206
        },
        "id": "6nlC5R80w0MW",
        "outputId": "a8e5036b-2fff-4113-e35b-e406932ba2fd"
      },
      "outputs": [
        {
          "output_type": "execute_result",
          "data": {
            "text/plain": [
              "   Unnamed: 0                                              title  \\\n",
              "0        8476                       You Can Smell Hillary’s Fear   \n",
              "1       10294  Watch The Exact Moment Paul Ryan Committed Pol...   \n",
              "2        3608        Kerry to go to Paris in gesture of sympathy   \n",
              "3       10142  Bernie supporters on Twitter erupt in anger ag...   \n",
              "4         875   The Battle of New York: Why This Primary Matters   \n",
              "\n",
              "                                                text label  \n",
              "0  Daniel Greenfield, a Shillman Journalism Fello...  FAKE  \n",
              "1  Google Pinterest Digg Linkedin Reddit Stumbleu...  FAKE  \n",
              "2  U.S. Secretary of State John F. Kerry said Mon...  REAL  \n",
              "3  — Kaydee King (@KaydeeKing) November 9, 2016 T...  FAKE  \n",
              "4  It's primary day in New York and front-runners...  REAL  "
            ],
            "text/html": [
              "\n",
              "  <div id=\"df-f4d86911-bcba-41a1-8c04-d88f28a30ca1\">\n",
              "    <div class=\"colab-df-container\">\n",
              "      <div>\n",
              "<style scoped>\n",
              "    .dataframe tbody tr th:only-of-type {\n",
              "        vertical-align: middle;\n",
              "    }\n",
              "\n",
              "    .dataframe tbody tr th {\n",
              "        vertical-align: top;\n",
              "    }\n",
              "\n",
              "    .dataframe thead th {\n",
              "        text-align: right;\n",
              "    }\n",
              "</style>\n",
              "<table border=\"1\" class=\"dataframe\">\n",
              "  <thead>\n",
              "    <tr style=\"text-align: right;\">\n",
              "      <th></th>\n",
              "      <th>Unnamed: 0</th>\n",
              "      <th>title</th>\n",
              "      <th>text</th>\n",
              "      <th>label</th>\n",
              "    </tr>\n",
              "  </thead>\n",
              "  <tbody>\n",
              "    <tr>\n",
              "      <th>0</th>\n",
              "      <td>8476</td>\n",
              "      <td>You Can Smell Hillary’s Fear</td>\n",
              "      <td>Daniel Greenfield, a Shillman Journalism Fello...</td>\n",
              "      <td>FAKE</td>\n",
              "    </tr>\n",
              "    <tr>\n",
              "      <th>1</th>\n",
              "      <td>10294</td>\n",
              "      <td>Watch The Exact Moment Paul Ryan Committed Pol...</td>\n",
              "      <td>Google Pinterest Digg Linkedin Reddit Stumbleu...</td>\n",
              "      <td>FAKE</td>\n",
              "    </tr>\n",
              "    <tr>\n",
              "      <th>2</th>\n",
              "      <td>3608</td>\n",
              "      <td>Kerry to go to Paris in gesture of sympathy</td>\n",
              "      <td>U.S. Secretary of State John F. Kerry said Mon...</td>\n",
              "      <td>REAL</td>\n",
              "    </tr>\n",
              "    <tr>\n",
              "      <th>3</th>\n",
              "      <td>10142</td>\n",
              "      <td>Bernie supporters on Twitter erupt in anger ag...</td>\n",
              "      <td>— Kaydee King (@KaydeeKing) November 9, 2016 T...</td>\n",
              "      <td>FAKE</td>\n",
              "    </tr>\n",
              "    <tr>\n",
              "      <th>4</th>\n",
              "      <td>875</td>\n",
              "      <td>The Battle of New York: Why This Primary Matters</td>\n",
              "      <td>It's primary day in New York and front-runners...</td>\n",
              "      <td>REAL</td>\n",
              "    </tr>\n",
              "  </tbody>\n",
              "</table>\n",
              "</div>\n",
              "      <button class=\"colab-df-convert\" onclick=\"convertToInteractive('df-f4d86911-bcba-41a1-8c04-d88f28a30ca1')\"\n",
              "              title=\"Convert this dataframe to an interactive table.\"\n",
              "              style=\"display:none;\">\n",
              "        \n",
              "  <svg xmlns=\"http://www.w3.org/2000/svg\" height=\"24px\"viewBox=\"0 0 24 24\"\n",
              "       width=\"24px\">\n",
              "    <path d=\"M0 0h24v24H0V0z\" fill=\"none\"/>\n",
              "    <path d=\"M18.56 5.44l.94 2.06.94-2.06 2.06-.94-2.06-.94-.94-2.06-.94 2.06-2.06.94zm-11 1L8.5 8.5l.94-2.06 2.06-.94-2.06-.94L8.5 2.5l-.94 2.06-2.06.94zm10 10l.94 2.06.94-2.06 2.06-.94-2.06-.94-.94-2.06-.94 2.06-2.06.94z\"/><path d=\"M17.41 7.96l-1.37-1.37c-.4-.4-.92-.59-1.43-.59-.52 0-1.04.2-1.43.59L10.3 9.45l-7.72 7.72c-.78.78-.78 2.05 0 2.83L4 21.41c.39.39.9.59 1.41.59.51 0 1.02-.2 1.41-.59l7.78-7.78 2.81-2.81c.8-.78.8-2.07 0-2.86zM5.41 20L4 18.59l7.72-7.72 1.47 1.35L5.41 20z\"/>\n",
              "  </svg>\n",
              "      </button>\n",
              "      \n",
              "  <style>\n",
              "    .colab-df-container {\n",
              "      display:flex;\n",
              "      flex-wrap:wrap;\n",
              "      gap: 12px;\n",
              "    }\n",
              "\n",
              "    .colab-df-convert {\n",
              "      background-color: #E8F0FE;\n",
              "      border: none;\n",
              "      border-radius: 50%;\n",
              "      cursor: pointer;\n",
              "      display: none;\n",
              "      fill: #1967D2;\n",
              "      height: 32px;\n",
              "      padding: 0 0 0 0;\n",
              "      width: 32px;\n",
              "    }\n",
              "\n",
              "    .colab-df-convert:hover {\n",
              "      background-color: #E2EBFA;\n",
              "      box-shadow: 0px 1px 2px rgba(60, 64, 67, 0.3), 0px 1px 3px 1px rgba(60, 64, 67, 0.15);\n",
              "      fill: #174EA6;\n",
              "    }\n",
              "\n",
              "    [theme=dark] .colab-df-convert {\n",
              "      background-color: #3B4455;\n",
              "      fill: #D2E3FC;\n",
              "    }\n",
              "\n",
              "    [theme=dark] .colab-df-convert:hover {\n",
              "      background-color: #434B5C;\n",
              "      box-shadow: 0px 1px 3px 1px rgba(0, 0, 0, 0.15);\n",
              "      filter: drop-shadow(0px 1px 2px rgba(0, 0, 0, 0.3));\n",
              "      fill: #FFFFFF;\n",
              "    }\n",
              "  </style>\n",
              "\n",
              "      <script>\n",
              "        const buttonEl =\n",
              "          document.querySelector('#df-f4d86911-bcba-41a1-8c04-d88f28a30ca1 button.colab-df-convert');\n",
              "        buttonEl.style.display =\n",
              "          google.colab.kernel.accessAllowed ? 'block' : 'none';\n",
              "\n",
              "        async function convertToInteractive(key) {\n",
              "          const element = document.querySelector('#df-f4d86911-bcba-41a1-8c04-d88f28a30ca1');\n",
              "          const dataTable =\n",
              "            await google.colab.kernel.invokeFunction('convertToInteractive',\n",
              "                                                     [key], {});\n",
              "          if (!dataTable) return;\n",
              "\n",
              "          const docLinkHtml = 'Like what you see? Visit the ' +\n",
              "            '<a target=\"_blank\" href=https://colab.research.google.com/notebooks/data_table.ipynb>data table notebook</a>'\n",
              "            + ' to learn more about interactive tables.';\n",
              "          element.innerHTML = '';\n",
              "          dataTable['output_type'] = 'display_data';\n",
              "          await google.colab.output.renderOutput(dataTable, element);\n",
              "          const docLink = document.createElement('div');\n",
              "          docLink.innerHTML = docLinkHtml;\n",
              "          element.appendChild(docLink);\n",
              "        }\n",
              "      </script>\n",
              "    </div>\n",
              "  </div>\n",
              "  "
            ]
          },
          "metadata": {},
          "execution_count": 8
        }
      ],
      "source": [
        "import pandas as pd\n",
        "\n",
        "news_df = pd.read_csv(\"/content/fake_or_real_news.csv\")\n",
        "news_df.head()"
      ]
    },
    {
      "cell_type": "code",
      "execution_count": 9,
      "metadata": {
        "colab": {
          "base_uri": "https://localhost:8080/",
          "height": 206
        },
        "id": "YoFWvXDd1Mfb",
        "outputId": "d84909b2-b4f3-48cf-bc25-f67406050948"
      },
      "outputs": [
        {
          "output_type": "execute_result",
          "data": {
            "text/plain": [
              "   Unnamed: 0                                              title  \\\n",
              "0        8476                       You Can Smell Hillary’s Fear   \n",
              "1       10294  Watch The Exact Moment Paul Ryan Committed Pol...   \n",
              "2        3608        Kerry to go to Paris in gesture of sympathy   \n",
              "3       10142  Bernie supporters on Twitter erupt in anger ag...   \n",
              "4         875   The Battle of New York: Why This Primary Matters   \n",
              "\n",
              "                                                text  label  \n",
              "0  Daniel Greenfield, a Shillman Journalism Fello...      0  \n",
              "1  Google Pinterest Digg Linkedin Reddit Stumbleu...      0  \n",
              "2  U.S. Secretary of State John F. Kerry said Mon...      1  \n",
              "3  — Kaydee King (@KaydeeKing) November 9, 2016 T...      0  \n",
              "4  It's primary day in New York and front-runners...      1  "
            ],
            "text/html": [
              "\n",
              "  <div id=\"df-c6822851-e135-4222-bdb3-8551465b7fbc\">\n",
              "    <div class=\"colab-df-container\">\n",
              "      <div>\n",
              "<style scoped>\n",
              "    .dataframe tbody tr th:only-of-type {\n",
              "        vertical-align: middle;\n",
              "    }\n",
              "\n",
              "    .dataframe tbody tr th {\n",
              "        vertical-align: top;\n",
              "    }\n",
              "\n",
              "    .dataframe thead th {\n",
              "        text-align: right;\n",
              "    }\n",
              "</style>\n",
              "<table border=\"1\" class=\"dataframe\">\n",
              "  <thead>\n",
              "    <tr style=\"text-align: right;\">\n",
              "      <th></th>\n",
              "      <th>Unnamed: 0</th>\n",
              "      <th>title</th>\n",
              "      <th>text</th>\n",
              "      <th>label</th>\n",
              "    </tr>\n",
              "  </thead>\n",
              "  <tbody>\n",
              "    <tr>\n",
              "      <th>0</th>\n",
              "      <td>8476</td>\n",
              "      <td>You Can Smell Hillary’s Fear</td>\n",
              "      <td>Daniel Greenfield, a Shillman Journalism Fello...</td>\n",
              "      <td>0</td>\n",
              "    </tr>\n",
              "    <tr>\n",
              "      <th>1</th>\n",
              "      <td>10294</td>\n",
              "      <td>Watch The Exact Moment Paul Ryan Committed Pol...</td>\n",
              "      <td>Google Pinterest Digg Linkedin Reddit Stumbleu...</td>\n",
              "      <td>0</td>\n",
              "    </tr>\n",
              "    <tr>\n",
              "      <th>2</th>\n",
              "      <td>3608</td>\n",
              "      <td>Kerry to go to Paris in gesture of sympathy</td>\n",
              "      <td>U.S. Secretary of State John F. Kerry said Mon...</td>\n",
              "      <td>1</td>\n",
              "    </tr>\n",
              "    <tr>\n",
              "      <th>3</th>\n",
              "      <td>10142</td>\n",
              "      <td>Bernie supporters on Twitter erupt in anger ag...</td>\n",
              "      <td>— Kaydee King (@KaydeeKing) November 9, 2016 T...</td>\n",
              "      <td>0</td>\n",
              "    </tr>\n",
              "    <tr>\n",
              "      <th>4</th>\n",
              "      <td>875</td>\n",
              "      <td>The Battle of New York: Why This Primary Matters</td>\n",
              "      <td>It's primary day in New York and front-runners...</td>\n",
              "      <td>1</td>\n",
              "    </tr>\n",
              "  </tbody>\n",
              "</table>\n",
              "</div>\n",
              "      <button class=\"colab-df-convert\" onclick=\"convertToInteractive('df-c6822851-e135-4222-bdb3-8551465b7fbc')\"\n",
              "              title=\"Convert this dataframe to an interactive table.\"\n",
              "              style=\"display:none;\">\n",
              "        \n",
              "  <svg xmlns=\"http://www.w3.org/2000/svg\" height=\"24px\"viewBox=\"0 0 24 24\"\n",
              "       width=\"24px\">\n",
              "    <path d=\"M0 0h24v24H0V0z\" fill=\"none\"/>\n",
              "    <path d=\"M18.56 5.44l.94 2.06.94-2.06 2.06-.94-2.06-.94-.94-2.06-.94 2.06-2.06.94zm-11 1L8.5 8.5l.94-2.06 2.06-.94-2.06-.94L8.5 2.5l-.94 2.06-2.06.94zm10 10l.94 2.06.94-2.06 2.06-.94-2.06-.94-.94-2.06-.94 2.06-2.06.94z\"/><path d=\"M17.41 7.96l-1.37-1.37c-.4-.4-.92-.59-1.43-.59-.52 0-1.04.2-1.43.59L10.3 9.45l-7.72 7.72c-.78.78-.78 2.05 0 2.83L4 21.41c.39.39.9.59 1.41.59.51 0 1.02-.2 1.41-.59l7.78-7.78 2.81-2.81c.8-.78.8-2.07 0-2.86zM5.41 20L4 18.59l7.72-7.72 1.47 1.35L5.41 20z\"/>\n",
              "  </svg>\n",
              "      </button>\n",
              "      \n",
              "  <style>\n",
              "    .colab-df-container {\n",
              "      display:flex;\n",
              "      flex-wrap:wrap;\n",
              "      gap: 12px;\n",
              "    }\n",
              "\n",
              "    .colab-df-convert {\n",
              "      background-color: #E8F0FE;\n",
              "      border: none;\n",
              "      border-radius: 50%;\n",
              "      cursor: pointer;\n",
              "      display: none;\n",
              "      fill: #1967D2;\n",
              "      height: 32px;\n",
              "      padding: 0 0 0 0;\n",
              "      width: 32px;\n",
              "    }\n",
              "\n",
              "    .colab-df-convert:hover {\n",
              "      background-color: #E2EBFA;\n",
              "      box-shadow: 0px 1px 2px rgba(60, 64, 67, 0.3), 0px 1px 3px 1px rgba(60, 64, 67, 0.15);\n",
              "      fill: #174EA6;\n",
              "    }\n",
              "\n",
              "    [theme=dark] .colab-df-convert {\n",
              "      background-color: #3B4455;\n",
              "      fill: #D2E3FC;\n",
              "    }\n",
              "\n",
              "    [theme=dark] .colab-df-convert:hover {\n",
              "      background-color: #434B5C;\n",
              "      box-shadow: 0px 1px 3px 1px rgba(0, 0, 0, 0.15);\n",
              "      filter: drop-shadow(0px 1px 2px rgba(0, 0, 0, 0.3));\n",
              "      fill: #FFFFFF;\n",
              "    }\n",
              "  </style>\n",
              "\n",
              "      <script>\n",
              "        const buttonEl =\n",
              "          document.querySelector('#df-c6822851-e135-4222-bdb3-8551465b7fbc button.colab-df-convert');\n",
              "        buttonEl.style.display =\n",
              "          google.colab.kernel.accessAllowed ? 'block' : 'none';\n",
              "\n",
              "        async function convertToInteractive(key) {\n",
              "          const element = document.querySelector('#df-c6822851-e135-4222-bdb3-8551465b7fbc');\n",
              "          const dataTable =\n",
              "            await google.colab.kernel.invokeFunction('convertToInteractive',\n",
              "                                                     [key], {});\n",
              "          if (!dataTable) return;\n",
              "\n",
              "          const docLinkHtml = 'Like what you see? Visit the ' +\n",
              "            '<a target=\"_blank\" href=https://colab.research.google.com/notebooks/data_table.ipynb>data table notebook</a>'\n",
              "            + ' to learn more about interactive tables.';\n",
              "          element.innerHTML = '';\n",
              "          dataTable['output_type'] = 'display_data';\n",
              "          await google.colab.output.renderOutput(dataTable, element);\n",
              "          const docLink = document.createElement('div');\n",
              "          docLink.innerHTML = docLinkHtml;\n",
              "          element.appendChild(docLink);\n",
              "        }\n",
              "      </script>\n",
              "    </div>\n",
              "  </div>\n",
              "  "
            ]
          },
          "metadata": {},
          "execution_count": 9
        }
      ],
      "source": [
        "news_df[\"label\"] = news_df[\"label\"].replace({\"REAL\":1, \"FAKE\":0})\n",
        "news_df.head()"
      ]
    },
    {
      "cell_type": "code",
      "execution_count": 10,
      "metadata": {
        "colab": {
          "base_uri": "https://localhost:8080/"
        },
        "id": "mfCrHsSC2OcW",
        "outputId": "a592bfda-119d-4770-cf43-a9a0fa98c92e"
      },
      "outputs": [
        {
          "output_type": "execute_result",
          "data": {
            "text/plain": [
              "dtype('int64')"
            ]
          },
          "metadata": {},
          "execution_count": 10
        }
      ],
      "source": [
        "news_df[\"label\"].dtype"
      ]
    },
    {
      "cell_type": "code",
      "execution_count": 11,
      "metadata": {
        "colab": {
          "base_uri": "https://localhost:8080/"
        },
        "id": "Iae_RDt-A8-R",
        "outputId": "8d9d08f4-5ef0-4537-bc7b-7e9921232e9a"
      },
      "outputs": [
        {
          "output_type": "execute_result",
          "data": {
            "text/plain": [
              "Index(['Unnamed: 0', 'title', 'text', 'label'], dtype='object')"
            ]
          },
          "metadata": {},
          "execution_count": 11
        }
      ],
      "source": [
        "news_df.keys()"
      ]
    },
    {
      "cell_type": "code",
      "execution_count": 12,
      "metadata": {
        "id": "AcXrA6T5BuDF"
      },
      "outputs": [],
      "source": [
        "news_df.drop(\"Unnamed: 0\", axis=1, inplace=True)\n",
        "news_df.drop(\"title\", axis=1, inplace=True)\n"
      ]
    },
    {
      "cell_type": "code",
      "execution_count": 13,
      "metadata": {
        "id": "yr8CN2u0NeoJ"
      },
      "outputs": [],
      "source": [
        "# Split the data into X and Y\n",
        "\n",
        "X = news_df.drop(\"label\", axis=1)\n",
        "Y = news_df[\"label\"]"
      ]
    },
    {
      "cell_type": "code",
      "execution_count": 14,
      "metadata": {
        "id": "1iRG8nP7OMqc"
      },
      "outputs": [],
      "source": [
        "# Split the data into train and test set\n",
        "import numpy as np\n",
        "from sklearn.model_selection import train_test_split\n",
        "\n",
        "X_train, X_test, Y_train, Y_test = train_test_split(X.to_numpy(), \n",
        "                                                    Y.to_numpy(), \n",
        "                                                    test_size=0.2,\n",
        "                                                    random_state=42)\n"
      ]
    },
    {
      "cell_type": "code",
      "execution_count": 15,
      "metadata": {
        "colab": {
          "base_uri": "https://localhost:8080/"
        },
        "id": "viU7vsQ_Oxph",
        "outputId": "be7d8ef1-da9a-446a-a4c4-267b7bb17cb5"
      },
      "outputs": [
        {
          "output_type": "execute_result",
          "data": {
            "text/plain": [
              "(5068, 5068, 1267, 1267)"
            ]
          },
          "metadata": {},
          "execution_count": 15
        }
      ],
      "source": [
        "len(X_train), len(Y_train), len(X_test), len(Y_test)"
      ]
    },
    {
      "cell_type": "code",
      "execution_count": 16,
      "metadata": {
        "colab": {
          "base_uri": "https://localhost:8080/"
        },
        "id": "XMr1N7j-PLo0",
        "outputId": "8c04e569-bc62-4192-f9dc-af8346c51654"
      },
      "outputs": [
        {
          "output_type": "execute_result",
          "data": {
            "text/plain": [
              "(array([['Donald Trump received a key endorsement for his immigration platform: Sen. Jeff Sessions, one of the strongest proponents in Congress of restricting immigration.'],\n",
              "        ['Nina November 6, 2016 @ 2:39 pm \\nPolish government and common people (except liberal and leftist opposition which lost everything in last year election) pray for Trump to be the president of USA. Dubi November 6, 2016 @ 2:25 pm \\nWith bitches like this hillary fan America is lost if she wins. She is lucky I wasn’t that cop who has the patience of Job, because I don’t! GO TRUMP! ! ! \\nWATCH: Video of Obnoxious Trump-Hater Getting Justice Explodes…6 MILLION Views This obnoxious Donald J. Trump hater has gone viral in a major way, and it’s not good. Here’s what happened to this anti-Trumper on video that has netted her six million views… This is AWESOME! Read more…'],\n",
              "        [\"Time: Investigating Hillary is an Attack on All Women November 1, 2016 \\nGood morning. It's Tuesday. \\nWho's up for another silly attempt to claim that Hillary Clinton is only being investigated for her rogue email setup because she's a woman? This gem comes from Robin Lakoff, a Berkeley professor in sustained incoherence and special pleading. \\nHillary Clinton’s Emailgate Is an Attack on Women \\n'It's not about emails; it's about public communication by a woman’ \\nI am mad. I am mad because I am scared. And if you are a woman, you should be, too. Emailgate is a bitch hunt, but the target is not Hillary Clinton. It’s us. \\nThe only reason the whole email flap has legs is because the candidate is female. Can you imagine this happening to a man? \\nHis name was General Petraeus. Thank you. Have a nice day. \\nClinton is guilty of SWF (Speaking While Female), and emailgate is just a reminder to us all that she has no business doing what she’s doing and must be punished, for the sake of all decent women everywhere. There is so much of that going around. \\nThat escalated quickly. And incoherently. Also I'm pretty sure it's not the 20s or whatever decade Robin is parodying or channeling. But yes, Hillary Clinton is only in this mess because she's a woman. It has nothing to do with anything else. That must be why Albright and Rice weren't in the center of similar scandals. \\nIf the candidate were male, there would be no scolding and no “scandal.” Those very ideas would be absurd. Men have a nearly absolute right to freedom of speech. In theory, so do women, but that, as the creationists like to say, is only a theory. \\nEmailing classified information on your server to avoid transparency regulations is not free speech. It's illegal for both public officials of both genders. \\nBut here’s Hillary Rodham Clinton, the very public stand-in for all bossy, uppity and ambitious women. Here are her emails. And since it’s a woman, doing what decent women should never do—engaging in high-level public communication—well, there must be something wrong with that, even if we can’t quite find that something. \\nIllegally... emailing... classified... information.\"],\n",
              "        ['Taki\\'s Magazine October 28, 2016 \\nThis election is going to have unprecedented political infidelity. A good 20 percent of husbands for Trump predict their wife won’t vote with them. This is wrong for a number of reasons but the biggie is, a family is supposed to be a cohesive unit. He can’t have his better half canceling out his vote. Even if a husband wants to vote badly—say, for Hillary—his wife should stand by her man and make the same mistake. Nobody’s saying there can’t be discussions and women shouldn’t have their own political beliefs, but the final decision comes down to the guy paying the bills and she should abide by that. This is counterintuitive because we live in a feminist fantasyland, but it’s really the same as deciding where your family is going to live. A married couple agree where they’re going to go based on what’s best for the kids. If he gets an amazing job offer in Cleveland but she’s a city gal from Manhattan, she needs to accept that Ohio is best for the future of their family. Voting is the same. You’re deciding where the country is going to go based on what’s best for future generations. \\nUnfortunately, this is not happening. A map of America “if just men voted” is almost completely red, whereas a map of America “if just women voted” is almost completely blue. The maps don’t differentiate between married and single, but judging by this massive split in what gender likes what candidate, we can assume the married map would be similar. Single people are a lost cause anyway. The women vote almost exclusively out of spite. They are voting for Hillary because she has a pussy, they hate Trump because he grabbed one, and they elected Obama because he makes theirs wet (they elected Trudeau because he is one). As for single men, I’m not convinced they even vote . There are also stay-at-home dads and situations where the woman is the breadwinner. This is awkward, but if you’ve made her the patriarch then her husband (a.k.a. wife) needs to vote with her. For the most part, however, we’re talking about a home where the father makes the lion’s share of the money and the woman’s contribution is using her magic powers to make babies. They have a symbiotic relationship where they’re both utilizing their greatest strengths. Patriarchs are best at driving, so he’s the helmsman. He doesn’t want to fight about it because he doesn’t want to rock the boat, but for her to turn starboard while he’s going port is to split everything in half and now the whole family is drowning. Voting against your husband is a tiny divorce. The Best of Gavin McInnes Tags: Described as \"The Godfather of Hipsterdom,\" Canadian expat Gavin McInnes is a writer who cofounded Vice Magazine in 1994. After selling his shares in early 2008, he cofounded the website Street Carnage as well as the advertising agency Rooster New York where he serves as creative director. He is a regular on the Fox News show Red Eye and recently published a book of memoirs with Simon & Schuster entitled How to Piss in Public. Follow @Gavin_McInnes on Twitter.'],\n",
              "        ['Pakistan Pakistan\\'s cricketer turned politician Imran Khan (C) talks to journalists outside the Supreme Court in Islamabad on October 20, 2016. (Photo by AP) \\nPolice have raided a youth convention for opposition leader Imran Khan\\'s Pakistan Tehreek Insaaf (PTI) party in the capital, Islamabad, arresting dozens of activists ahead of a planned protest. \\nImages on local news channels showed police in uniform beating activists with batons and leading those detained away to waiting buses. \\n\"All of a sudden police arrived and started arresting people,\" media outlets quoted Anila Khawaja, a spokeswoman for PTI as saying. \\nSeveral PTI leaders and lawmakers have been infuriated by the police raid. \\n\"The government has proved that there is no democracy in Pakistan, it is a monarchy,” Asad Umar, a PTI lawmaker, told reporters from the scene. \\nA spokesman for the Islamabad district administration said the raid was enforcing the order issued earlier in the day by the city\\'s top administrator which outlawed gatherings of more than five people. \\nThe Thursday raid came hours after a city order banned all public gatherings ahead of Khan\\'s planned protest set to begin on November 2 in Islamabad. Khan, a former Pakistan cricket star who turned politician, has described the upcoming mass protest as a final push to force Prime Minister Nawaz Sharif to resign over corruption allegations. The leader of Pakistan Tehreek Insaf (PTI), Imran Khan, waves to supporters during a rally in Peshawar, Pakistan, on August 7, 2016. (Photo by AFP) \\nKhan led a previous mass protest in the summer of 2014 in front of parliament, calling for the government to resign over election rigging allegations. \\nKhan has insisted that his anti-government protests would continue until the Sharif administration offers an appropriate response to the corruption allegations. \\nLeaked confidential documents from the Panamanian Mossack Fonseca law firm have showing how the company helped rich and powerful clients across the world with shady businesses. \\nThe clients reportedly included three of Sharif\\'s children, who carried out business transactions which could be judged as money laundering and tax avoidance. \\nThe leaked records revealed that Sharif\\'s children, Hasan, Hussain and Maryam, not only owned offshore companies, but also real estate properties in London. Sharif\\'s family denies any wrongdoing. \\nPeople in Pakistan, with Imran Khan at the helm, are asking for an inquiry to determine how Sharif’s children made all that money to buy offshore companies and real estate in London\\'s prime locations, and whether they had paid their due tax on their income. Loading ...'],\n",
              "        ['Donald Trump, hitting reset on his 2016 campaign, is preparing to roll out his first wave of general election TV ads in four pivotal battleground states after shaking up the top echelon of his team in a bid to focus his message and make up lost ground in the polls against Hillary Clinton.\\n\\n“I am committed to doing whatever it takes to win this election, and ultimately become President because our country cannot afford four more years of the failed Obama-Clinton policies which have endangered our financial and physical security,” the Republican nominee said in a statement early Wednesday announcing the latest staffing changes.\\n\\nIn what was described as an expansion, Trump promoted pollster Kellyanne Conway to campaign manager and named Stephen Bannon, the co-founder of Breitbart News, as campaign chief executive. Trump said in the statement that Paul Manafort, who took over following the departure of Corey Lewandowski in June, will maintain his current title and work closely with Conway and Bannon on the campaign moving forward.\\n\\nMeanwhile, a senior Trump aide told Fox News the campaign will be rolling out TV ads Friday in the battleground states of Ohio, Pennsylvania, Florida and North Carolina.\\n\\nThis would be three days earlier than Manafort originally planned – the campaign had been preparing to launch ads after the Olympics, which end Sunday. Clinton, though, has been plastering the airwaves with ads, while taking a significant post-convention lead in a number of battleground and national polls.\\n\\nTrump seems to be changing up his approach, amid concerns that his off-the-cuff style could be hurting him in the general election environment. In a shift, he delivered a scripted speech to a rally audience Tuesday night in Wisconsin, appealing to minority voters in part by accusing Clinton of \"bigotry\" and saying she sees African-Americans as no more than votes to be won.\\n\\nIn an interview with Fox News, Trump voiced confidence in the state of his campaign.\\n\\n“We’ve got a lot of money in the bank and I haven’t spent any of it,” he said, while confirming his campaign would be airing ads soon.\\n\\n“We’ve got some pretty good ads,” he said.\\n\\nIn a statement, Trump also called Conway and Bannon “extremely capable.”\\n\\nConway told Fox News that “everyone else” on the campaign will remain in place.\\n\\n“This is an expansion during the busy homestretch in the campaign,” she added.\\n\\nTrump will step off the stump Wednesday in order to attend his first classified briefing from intelligence officials, at the FBI office in New York.\\n\\nOn a conference call, Clinton campaign manager Robby Mook suggested little would change for Trump despite the staffing changes.\\n\\n“What’s become clear from this is that no matter how much the establishment wants to clean Donald Trump up … and get him on message, he has officially won the fight to let Trump be Trump,” he said. “It’s time that we believe him.”\\n\\nThough Trump previously has resisted repeated calls from fellow Republicans to change his approach on the campaign trail that has powered his surge to the top of the GOP field in the primary season, recent poll numbers have showed that Clinton\\xa0has a sizeable lead\\xa0in several key states. It could force Trump to pivot as the campaign moves forward, though he still downplays that possibility.\\n\\n\"You know, I am who I am,\" he told a local Wisconsin television station Tuesday. \"It\\'s me. I don\\'t want to change. Everyone talks about, \\'Oh, well you\\'re going to pivot, you\\'re going to.\\' I don\\'t want to pivot. I mean, you have to be you. If you start pivoting, you\\'re not being honest with people.\"\\n\\nThe Associated Press reported that the moves were discussed at a lengthy senior staff meeting at Trump Tower Tuesday while the billionaire mogul was on the road. Additional senior hires are expected to come in the next few days.\\n\\nTrump, whose campaign is built on his persona as a winner, said several times that the campaign is \"doing well,\" and said his speech hours earlier in Wisconsin Tuesday was well-received.\\n\\n\"We\\'re going to be doing something very dramatic,\" Trump added.\\n\\nIn the Wisconsin outing, Trump accused Clinton of \"bigotry\" and being \"against the police,\" claiming that she and other Democrats have \"betrayed the African American community\" and pandered for votes.\\n\\nClinton campaign spokeswoman Jennifer Palmieri responded with a statement early Wednesday accusing Trump of being the bigot instead.\\n\\n\"With each passing Trump attack, it becomes clearer that his strategy is just to say about Hillary Clinton what\\'s true of himself. When people started saying he was temperamentally unfit, he called Hillary the same. When his ties to the Kremlin came under scrutiny, he absurdly claimed that Hillary was the one who was too close to Putin. Now he\\'s accusing her of bigoted remarks -- We think the American people will know which candidate is guilty of the charge,\" she said.\\n\\nFox News’ Christopher Snyder, Carl Cameron, Dan Gallo and Jason Donner and The Associated Press contributed to this report.'],\n",
              "        ['Email Exactly five years ago, Libya’s ex-leader Colonel Muammar Gaddafi was brutally murdered by rebels who discovered him in drainage pipes following a NATO air strike that hit his convoy on the outskirts of his hometown, Sirte. The following day, his body was put on display in a storage freezer in the city of Misrata. Via CollectiveEvolution \\nThis probed a controversial response from then U.S. Secretary of State Hillary Clinton, who remarked, “We came, we saw, he died.” On April 2, 2011, she received an email from Sidney Blumenthal, who served as her unofficial intelligence operative. The message discussed France’s reasoning for joining the war against Gaddafi in Libya. Blumenthal wrote in the email that Gaddafi had “nearly bottomless financial resources” for pursuing his campaign against the rebels. And while Libya’s frozen bank accounts had become an obstacle, he still had nearly 143 tons of gold and a similar amount in silver that accumulated to a total of $7 billion. SPONSORED LINKS Scroll Down For Video Below! \\nThe email goes on to say that Gaddafi had taken the gold before the rebellion in order to “establish a pan-African currency based on the Libyan golden Dinar.” The idea was apparently to present a currency in the African region in order to compete with the French Franc. Blumenthal said, “French intelligence officers discovered this plan shortly after the current rebellion began, and this was one of the factors that influenced President Nicolas Sarkozy’s decision to commit France to the attack on Libya.” \\nJust months later, on October 20, 2011, Gaddafi was murdered . Now, five years later, the once successful Arab country is in a state of chaos filled with tribal wars, leading to tens of thousands of Libyans dead, and displacing hundreds of thousands more. Gaddafi’s death immediately led to an intense power struggle that turned into a civil war. Ultimately, Islamic militant and terrorist groups, like ISIS, carried out attacks on Libyan oil and other important groundwork. \\nGaddafi had, prior to his reign, advocated socialist ideas. Upon graduating from a military academy in Benghazi, he joined a plot to throw out King Idris I, which eventually happened in September 1969, leading to Gaddafi being promoted to Colonel, and his officers taking on a grand campaign to overturn Western capitalism. British and U.S. military bases in Libya were then closed down, and Western oil companies were immediately nationalized. \\nGaddafi promised to rule out corruption and enact serious changes in the country’s social, economic, and political life. He created the Jamahiriya, which is an Arabic term that translates to “state of the masses.” His republic vowed to incorporate anarchist, Marxist, and Islamist practices. \\nBy March 1977, Gaddafi called for a “people’s republic” referred to as the Great Socialist People’s Libyan Arab Jamahiriya. Gaddafi served as president, banning all political organizations, with the exception of his devised Arab Socialist Union. \\nBy 1979, Gaddafi resigned in order to work for a “continuation of the revolution,” and changed his title to the Leader of the Revolution. The government took advantage of oil money to create extensive and seemingly outlandish social reforms. He proposed that women be allowed to study, serve in the army, and move up the social ladder, for instance. \\nThe West and conservative Arab countries remained hesitant of the successful and passionate leader, and remained hands-off until the 2011 region was hit with Arab Spring “revolutions.” \\nThe protests-turned-armed-conflict in Libya came about in February 2011, with people demanding Gaddafi to resign after 40 years of ruling the Libyan Arab Republic. Eventually, opponents gained control over almost all of Libya. On March 17, 2011, the U.S. and Western allies proposed a settlement by the UN Security Council that implemented a no-fly zone over Libya which caused Western airstrikes on Gaddafi’s forces. Gaddafi was accused of bombing his own people, and using foreign mercenaries to halt anti-government protests. \\nOn March 19, 2011, NATO airstrikes commenced, led by France, and then followed by the US, the UK, and several other countries. NATO jets eventually targeted Gaddafi’s home on April 29, where he survived, but his youngest son and three children were killed. \\nOn June 27, the International Criminal Court granted a request to issue a warrant for the arrest of Gaddalfi, as well as his son, Saif al-Islam. \\nBy August 21, rebel fighters from Libya’s National Transitional Council bombarded the capital Tripoli to take over the government compound. Gaddafi refused to back down and leave the capital, and called for his loyalists to fight until the bitter end. By the 23, NTC fighters had overrun Tripoli, and taken Gaddafi’s reign out from underneath him. This caused Gaddafi and his loyalists to flee the capital 10 days later, ending up in his hometown of Sirte. \\nThroughout September 2011, Gaddafi loyalists were overrun, and by October, all of Sirte had been captured by the rebels, except for a northern neighborhood referred to as Number Two, where Gaddafi was hiding out. But by October 20, the Libyan rebels had pinpointed Gaddafi’s location there. \\nWith Tripoli in ruins, and Number Two under attack, Gaddafi’s life seemed a ticking time bomb. That day, the once leader was injured from a NATO air attack, but many others were killed. Gaddafi sought refuge in a nearby drainage facility along with some of his closest aids. \\nHis hideout was soon discovered by a unit of the National Transitional Council, who then assaulted him, including sexually, and then took him prisoner, and are believed to have tortured and killed both him and his son before they were murdered.'],\n",
              "        ['Republicans never win with the media. Nominate a rich, old, white guy and media outlets complain he’s old and out of touch. Have the most vibrant and diverse field of candidates either party might have had in history? It’s a “clown car,” according to liberal and even some more traditional news outlets.\\n\\nThe “clown car” criticism is a particular favorite of MSNBC, a network that finds itself somewhere between an Edsel and a Pinto. Since Jan. 1, hosts and guests at MesSNBC have used the expression 38 times. Obama “Thrill up my leg” fan and \"Hardball\" host Chris Matthews owns it, racking up 29 mentions since the beginning of the year.\\n\\nAlthough liberals have been using the term to describe the GOP for several years, Matthews claims it. “Well, speaking of the clown car, I think I invented that term and I will hold on to it,” he told the \"Hardball\" audience May 11. When he discussed the Republican field with guests, out came the “clown car” calls, like some parrot begging for a cracker. Even the Conservative Political Action Conference became that “clown car convention.”\\n\\nMatthews was far from alone. Sirius/XM Radio hard-left host John Fugelsang told “The Ed Show” on April 24, that Republican Gov. Bobby Jindal of Louisiana was making a “big\\xa0public play to be the latest elf\\xa0to jump in the big overcrowded\\xa0clown car” that is the GOP.\\n\\nLeft-leaning Susan Milligan, a political and foreign affairs writer for\\xa0US News & World Report, got into the act in a big \"Hardball\" way May 20. “It’s interesting to me that you’ve got all of these Republican men and one woman running. And the only reason they have for running is that they have this double-decker clown car of candidates and think ‘well, why not me, if these guys can run?’” she asked.\\n\\nEsquire’s Charles Pierce, who authored “Idiot America,” upgraded the vehicle of choice. “You know, we all saw what the clown car looked like in 2012. And it looks like in 2016, we`re going to have a clown SUV,” he told the audience of the little-watched \"All In With Chris Hayes\" February 20.\\n\\nIn March, New York Times opinion columnist Timothy Egan called it “the clown car holding a clutch of potential Republican presidential candidates continues to gasp along.” For Egan, who complained about “the landfill of Republican dimwittedness,” this was par for the course. He even upgraded his phrasing further to a “clown bus,” in a May column.\\n\\nWashington Post columnists Michael Gerson and Dana Milbank have both deployed the term. Milbank’s May 18, 2015 piece was headlined: “The Republican field is a clown car” and Gerson called it a “stretch clown car.”\\n\\nIt doesn’t matter what they call it – car, bus, SUV or even a London double-decker – the media hates the GOP vehicle if it’s not making left turns. The election’s just getting started. Liberal news outlets are going to keep pulling the wheel that direction, even if the whole nation runs off the road.\\n\\nDan Gainor is the Media Research Center\\'s Vice President for Business and Culture. He writes frequently about media for Fox News Opinion. He can also be contacted on Facebook and Twitter as dangainor.'],\n",
              "        [\"Click Here To Learn More About Alexandra's Personalized Essences Psychic Protection Click Here for More Information on Psychic Protection! Implant Removal Series Click here to listen to the IRP and SA/DNA Process Read The Testimonials Click Here To Read What Others Are Experiencing! Copyright © 2012 by Galactic Connection. All Rights Reserved. \\nExcerpts may be used, provided that full and clear credit is given to Alexandra Meadors and www.galacticconnection.com with appropriate and specific direction to the original content. Unauthorized use and/or duplication of any material on this website without express and written permission from its author and owner is strictly prohibited. Thank you. \\nPrivacy Policy \\nBy subscribing to GalacticConnection.com you acknowledge that your name and e-mail address will be added to our database. As with all other personal information, only working affiliates of GalacticConnection.com have access to this data. We do not give GalacticConnection.com addresses to outside companies, nor will we ever rent or sell your email address. Any e-mail you send to GalacticConnection.com is completely confidential. Therefore, we will not add your name to our e-mail list without your permission. Continue reading... Galactic Connection 2016 | Design & Development by AA at Superluminal Systems Sign Up forOur Newsletter \\nJoin our newsletter to receive exclusive updates, interviews, discounts, and more. Join Us!\"],\n",
              "        ['6827 N. High Street, Suite 121 Worthington, Ohio 43085 \\nSound and Vision \\nIt’s pretty simple now. The ZOG has been mortally wounded. They’ve been caught manipulating the news and polls. Basically they have one foot on a banana peel and the other in their graves. \\nNow the investigation has been reopened. \\nWe stand at the threshold of infinity. \\nRemember to continue with Operation Endgame Hillary to eliminate all remaining resistance. \\nTakes a few minutes out of your day to click on this link, and drag a few over to your social media. \\nIf you missed Memetic Monday on Wednesday, check it – instructions are detailed therein. \\nOperation Endgame Hillary is not optional. \\nRemember what Andrew said: \\n“Everybody Memes! Nobody Quits! Or Ill Kill You Myself!” \\nWe are at the threshold, fam. \\nThe Colonel']],\n",
              "       dtype=object),\n",
              " array([1, 0, 0, 0, 0, 1, 0, 1, 0, 0]))"
            ]
          },
          "metadata": {},
          "execution_count": 16
        }
      ],
      "source": [
        "# Check the first 10 examples\n",
        "X_train[:10], Y_train[:10]"
      ]
    },
    {
      "cell_type": "markdown",
      "metadata": {
        "id": "tOrHDaekwPsn"
      },
      "source": [
        "# Text Vectorization (tokenization)"
      ]
    },
    {
      "cell_type": "code",
      "execution_count": 17,
      "metadata": {
        "id": "Ozk3DVPgwXcF"
      },
      "outputs": [],
      "source": [
        "import tensorflow as tf\n",
        "from tensorflow.keras.layers.experimental.preprocessing import TextVectorization\n",
        "\n",
        "# Use the default TextVectorization parameters\n",
        "text_vectorizer = TextVectorization(max_tokens=None,\n",
        "                                    standardize=\"lower_and_strip_punctuation\",\n",
        "                                    split=\"whitespace\",\n",
        "                                    ngrams=None,\n",
        "                                    output_mode=\"int\",\n",
        "                                    output_sequence_length=None,\n",
        "                                    pad_to_max_tokens=False)"
      ]
    },
    {
      "cell_type": "code",
      "execution_count": 18,
      "metadata": {
        "colab": {
          "base_uri": "https://localhost:8080/"
        },
        "id": "W4Vz7c9nxKdk",
        "outputId": "08551348-50c2-4fdf-a129-c9f0d0a6e0b9"
      },
      "outputs": [
        {
          "output_type": "stream",
          "name": "stdout",
          "text": [
            "Average number of tokens in training set: 759\n"
          ]
        }
      ],
      "source": [
        "# Find the average number of tokens in the training set\n",
        "avg_tokens = round(sum([len(str(i).split()) for i in X_train])/len(X_train))\n",
        "print(\"Average number of tokens in training set:\", avg_tokens)\n"
      ]
    },
    {
      "cell_type": "code",
      "execution_count": 19,
      "metadata": {
        "id": "YXbBSo0i0KRZ"
      },
      "outputs": [],
      "source": [
        "# Setup the text vectorization variables\n",
        "max_vocab_length = 10000 #max number of words to have in our vocabulary\n",
        "max_length = 759 # max length od our sequence will be \n",
        "\n",
        "text_vectorizer = TextVectorization(max_tokens=max_vocab_length,\n",
        "                                    output_mode=\"int\",\n",
        "                                    output_sequence_length=max_length)"
      ]
    },
    {
      "cell_type": "code",
      "execution_count": 20,
      "metadata": {
        "id": "fvRXhCtv1E-q"
      },
      "outputs": [],
      "source": [
        "# Fit the text vectorizer to the training data\n",
        "text_vectorizer.adapt(X_train)"
      ]
    },
    {
      "cell_type": "code",
      "execution_count": 21,
      "metadata": {
        "colab": {
          "base_uri": "https://localhost:8080/"
        },
        "id": "hky-cJws1MyL",
        "outputId": "cd7b5878-30ad-40bf-ce5b-832b28eb4675"
      },
      "outputs": [
        {
          "output_type": "execute_result",
          "data": {
            "text/plain": [
              "<tf.Tensor: shape=(1, 759), dtype=int64, numpy=\n",
              "array([[  60,    9,    6,  274,  214,    1,    1,   32,    9,    2,   58,\n",
              "          69,    4, 1648,    0,    0,    0,    0,    0,    0,    0,    0,\n",
              "           0,    0,    0,    0,    0,    0,    0,    0,    0,    0,    0,\n",
              "           0,    0,    0,    0,    0,    0,    0,    0,    0,    0,    0,\n",
              "           0,    0,    0,    0,    0,    0,    0,    0,    0,    0,    0,\n",
              "           0,    0,    0,    0,    0,    0,    0,    0,    0,    0,    0,\n",
              "           0,    0,    0,    0,    0,    0,    0,    0,    0,    0,    0,\n",
              "           0,    0,    0,    0,    0,    0,    0,    0,    0,    0,    0,\n",
              "           0,    0,    0,    0,    0,    0,    0,    0,    0,    0,    0,\n",
              "           0,    0,    0,    0,    0,    0,    0,    0,    0,    0,    0,\n",
              "           0,    0,    0,    0,    0,    0,    0,    0,    0,    0,    0,\n",
              "           0,    0,    0,    0,    0,    0,    0,    0,    0,    0,    0,\n",
              "           0,    0,    0,    0,    0,    0,    0,    0,    0,    0,    0,\n",
              "           0,    0,    0,    0,    0,    0,    0,    0,    0,    0,    0,\n",
              "           0,    0,    0,    0,    0,    0,    0,    0,    0,    0,    0,\n",
              "           0,    0,    0,    0,    0,    0,    0,    0,    0,    0,    0,\n",
              "           0,    0,    0,    0,    0,    0,    0,    0,    0,    0,    0,\n",
              "           0,    0,    0,    0,    0,    0,    0,    0,    0,    0,    0,\n",
              "           0,    0,    0,    0,    0,    0,    0,    0,    0,    0,    0,\n",
              "           0,    0,    0,    0,    0,    0,    0,    0,    0,    0,    0,\n",
              "           0,    0,    0,    0,    0,    0,    0,    0,    0,    0,    0,\n",
              "           0,    0,    0,    0,    0,    0,    0,    0,    0,    0,    0,\n",
              "           0,    0,    0,    0,    0,    0,    0,    0,    0,    0,    0,\n",
              "           0,    0,    0,    0,    0,    0,    0,    0,    0,    0,    0,\n",
              "           0,    0,    0,    0,    0,    0,    0,    0,    0,    0,    0,\n",
              "           0,    0,    0,    0,    0,    0,    0,    0,    0,    0,    0,\n",
              "           0,    0,    0,    0,    0,    0,    0,    0,    0,    0,    0,\n",
              "           0,    0,    0,    0,    0,    0,    0,    0,    0,    0,    0,\n",
              "           0,    0,    0,    0,    0,    0,    0,    0,    0,    0,    0,\n",
              "           0,    0,    0,    0,    0,    0,    0,    0,    0,    0,    0,\n",
              "           0,    0,    0,    0,    0,    0,    0,    0,    0,    0,    0,\n",
              "           0,    0,    0,    0,    0,    0,    0,    0,    0,    0,    0,\n",
              "           0,    0,    0,    0,    0,    0,    0,    0,    0,    0,    0,\n",
              "           0,    0,    0,    0,    0,    0,    0,    0,    0,    0,    0,\n",
              "           0,    0,    0,    0,    0,    0,    0,    0,    0,    0,    0,\n",
              "           0,    0,    0,    0,    0,    0,    0,    0,    0,    0,    0,\n",
              "           0,    0,    0,    0,    0,    0,    0,    0,    0,    0,    0,\n",
              "           0,    0,    0,    0,    0,    0,    0,    0,    0,    0,    0,\n",
              "           0,    0,    0,    0,    0,    0,    0,    0,    0,    0,    0,\n",
              "           0,    0,    0,    0,    0,    0,    0,    0,    0,    0,    0,\n",
              "           0,    0,    0,    0,    0,    0,    0,    0,    0,    0,    0,\n",
              "           0,    0,    0,    0,    0,    0,    0,    0,    0,    0,    0,\n",
              "           0,    0,    0,    0,    0,    0,    0,    0,    0,    0,    0,\n",
              "           0,    0,    0,    0,    0,    0,    0,    0,    0,    0,    0,\n",
              "           0,    0,    0,    0,    0,    0,    0,    0,    0,    0,    0,\n",
              "           0,    0,    0,    0,    0,    0,    0,    0,    0,    0,    0,\n",
              "           0,    0,    0,    0,    0,    0,    0,    0,    0,    0,    0,\n",
              "           0,    0,    0,    0,    0,    0,    0,    0,    0,    0,    0,\n",
              "           0,    0,    0,    0,    0,    0,    0,    0,    0,    0,    0,\n",
              "           0,    0,    0,    0,    0,    0,    0,    0,    0,    0,    0,\n",
              "           0,    0,    0,    0,    0,    0,    0,    0,    0,    0,    0,\n",
              "           0,    0,    0,    0,    0,    0,    0,    0,    0,    0,    0,\n",
              "           0,    0,    0,    0,    0,    0,    0,    0,    0,    0,    0,\n",
              "           0,    0,    0,    0,    0,    0,    0,    0,    0,    0,    0,\n",
              "           0,    0,    0,    0,    0,    0,    0,    0,    0,    0,    0,\n",
              "           0,    0,    0,    0,    0,    0,    0,    0,    0,    0,    0,\n",
              "           0,    0,    0,    0,    0,    0,    0,    0,    0,    0,    0,\n",
              "           0,    0,    0,    0,    0,    0,    0,    0,    0,    0,    0,\n",
              "           0,    0,    0,    0,    0,    0,    0,    0,    0,    0,    0,\n",
              "           0,    0,    0,    0,    0,    0,    0,    0,    0,    0,    0,\n",
              "           0,    0,    0,    0,    0,    0,    0,    0,    0,    0,    0,\n",
              "           0,    0,    0,    0,    0,    0,    0,    0,    0,    0,    0,\n",
              "           0,    0,    0,    0,    0,    0,    0,    0,    0,    0,    0,\n",
              "           0,    0,    0,    0,    0,    0,    0,    0,    0,    0,    0,\n",
              "           0,    0,    0,    0,    0,    0,    0,    0,    0,    0,    0,\n",
              "           0,    0,    0,    0,    0,    0,    0,    0,    0,    0,    0,\n",
              "           0,    0,    0,    0,    0,    0,    0,    0,    0,    0,    0,\n",
              "           0,    0,    0,    0,    0,    0,    0,    0,    0,    0,    0,\n",
              "           0,    0,    0,    0,    0,    0,    0,    0,    0,    0,    0]])>"
            ]
          },
          "metadata": {},
          "execution_count": 21
        }
      ],
      "source": [
        "# Create a sample sentence and tokenize it \n",
        "sample_sentence = \"There is a man called Virat Kohli who is the new president of India\"\n",
        "text_vectorizer([sample_sentence])"
      ]
    },
    {
      "cell_type": "code",
      "execution_count": 22,
      "metadata": {
        "colab": {
          "base_uri": "https://localhost:8080/"
        },
        "id": "eNOxqHzt1oRS",
        "outputId": "4d89d7e9-5a43-4ba1-f410-94c290cd54d9"
      },
      "outputs": [
        {
          "output_type": "stream",
          "name": "stdout",
          "text": [
            "Original text: \n",
            " ['Be the First to Comment! Leave a Reply Click here to get more info on formatting (1) Leave the name field empty if you want to post as Anonymous. It\\'s preferable that you choose a name so it becomes clear who said what. E-mail address is not mandatory either. The website automatically checks for spam. Please refer to our moderation policies for more details. We check to make sure that no comment is mistakenly marked as spam. This takes time and effort, so please be patient until your comment appears. Thanks. (2) 10 replies to a comment are the maximum. (3) Here are formating examples which you can use in your writing:<b>bold text</b> results in bold text <i>italic text</i> results in italic text (You can also combine two formating tags with each other, for example to get bold-italic text.)<em>emphasized text</em> results in emphasized text <strong>strong text</strong> results in strong text <q>a quote text</q> results in a quote text (quotation marks are added automatically) <cite>a phrase or a block of text that needs to be cited</cite> results in: a phrase or a block of text that needs to be cited <blockquote>a heavier version of quoting a block of text...</blockquote> results in: a heavier version of quoting a block of text that can span several lines. Use these possibilities appropriately. They are meant to help you create and follow the discussions in a better way. They can assist in grasping the content value of a comment more quickly. and last but not least:<a href=\\'\\'http://link-address.com\\'\\'>Name of your link</a> results in Name of your link (4) No need to use this special character in between paragraphs:  ; You do not need it anymore. Just write as you like and your paragraphs will be separated. The \"Live Preview\" appears automatically when you start typing below the text area and it will show you how your comment will look like before you send it. (5) If you now think that this is too confusing then just ignore the code above and write as you like. Search articles']\n",
            " Vectorized text:\n",
            " [[  18    2   99    3  743  648    6 4120 1272  170    3  104   41 7632\n",
            "    11    1  430  648    2  483  737 3630   46   37  169    3  375   12\n",
            "  3284   55 8780    8   37 1651    6  483   59   13 1585  304   32   26\n",
            "    51  232  699    9   22 3690  487    2 1226 4076 2418   10 6738 1200\n",
            "  4998    3   62    1  617   10   41 1016   34 1214    3  115  491    8\n",
            "    66  743    9 7905 2486   12 6738   19  903   82    5  615   59 1200\n",
            "    18 4553  353  109  743  901 1839  578  436 7878    3    6  743   17\n",
            "     2 5116  662  170   17    1 2910   54   37   64  205    7  109    1\n",
            "     1  624    7 3702 1853    1    1  624    7    1 1853   37   64   67\n",
            "  7536   97    1 4545   14  300   70   10  548    3  104    1    1    1\n",
            "   624    7 4137 1853    1    1  624    7  538 1853 8775 3011    1  624\n",
            "     7    6 3011 1853    1 3455   17  446 4076    1 2714   36    6 1589\n",
            "     4 1853    8  546    3   18    1  624    7    6 2714   36    6 1589\n",
            "     4 1853    8  546    3   18 2031    1 8628 1569    4 5982    6 1589\n",
            "     4    1  624    7    6 8628 1569    4 5982    6 1589    4 1853    8\n",
            "    64 5816  327 1341  205  100 5599 8322   29   17 1490    3  255   37\n",
            "   787    5  775    2 2702    7    6  277  125   29   64 5197    7 9277\n",
            "     2 1858 1617    4    6  743   41  940    5  117   27   22    1    1\n",
            "     4  109    1  624    7  483    4  109 1698  760   66  191    3  205\n",
            "    19  738 2101    7  166 8789   37   71   22  191   13 2844   72 1714\n",
            "    12   37   77    5  109 8789   35   18 6580    2  568 7077  901 4076\n",
            "    56   37  518    1  978    2 1853  713    5   13   35  301   37   87\n",
            "   109  743   35  281   77  113   37 1313   13  749   46   37   85  120\n",
            "     8   19    9  208 6620  132   72 2488    2 1938  939    5 1714   12\n",
            "    37   77 1391 1952    0    0    0    0    0    0    0    0    0    0\n",
            "     0    0    0    0    0    0    0    0    0    0    0    0    0    0\n",
            "     0    0    0    0    0    0    0    0    0    0    0    0    0    0\n",
            "     0    0    0    0    0    0    0    0    0    0    0    0    0    0\n",
            "     0    0    0    0    0    0    0    0    0    0    0    0    0    0\n",
            "     0    0    0    0    0    0    0    0    0    0    0    0    0    0\n",
            "     0    0    0    0    0    0    0    0    0    0    0    0    0    0\n",
            "     0    0    0    0    0    0    0    0    0    0    0    0    0    0\n",
            "     0    0    0    0    0    0    0    0    0    0    0    0    0    0\n",
            "     0    0    0    0    0    0    0    0    0    0    0    0    0    0\n",
            "     0    0    0    0    0    0    0    0    0    0    0    0    0    0\n",
            "     0    0    0    0    0    0    0    0    0    0    0    0    0    0\n",
            "     0    0    0    0    0    0    0    0    0    0    0    0    0    0\n",
            "     0    0    0    0    0    0    0    0    0    0    0    0    0    0\n",
            "     0    0    0    0    0    0    0    0    0    0    0    0    0    0\n",
            "     0    0    0    0    0    0    0    0    0    0    0    0    0    0\n",
            "     0    0    0    0    0    0    0    0    0    0    0    0    0    0\n",
            "     0    0    0    0    0    0    0    0    0    0    0    0    0    0\n",
            "     0    0    0    0    0    0    0    0    0    0    0    0    0    0\n",
            "     0    0    0    0    0    0    0    0    0    0    0    0    0    0\n",
            "     0    0    0    0    0    0    0    0    0    0    0    0    0    0\n",
            "     0    0    0    0    0    0    0    0    0    0    0    0    0    0\n",
            "     0    0    0    0    0    0    0    0    0    0    0    0    0    0\n",
            "     0    0    0    0    0    0    0    0    0    0    0    0    0    0\n",
            "     0    0    0    0    0    0    0    0    0    0    0    0    0    0\n",
            "     0    0    0    0    0    0    0    0    0    0    0    0    0    0\n",
            "     0    0    0    0    0    0    0    0    0    0    0    0    0    0\n",
            "     0    0    0    0    0    0    0    0    0    0    0    0    0    0\n",
            "     0    0    0    0    0    0    0    0    0    0    0    0    0    0\n",
            "     0    0    0    0    0    0    0    0    0    0    0    0    0    0\n",
            "     0    0    0]]\n"
          ]
        }
      ],
      "source": [
        "# Choose the random sentence from the training dataset and tokenize it \n",
        "import random\n",
        "random_sentence = random.choice(X_train)\n",
        "print(f\"Original text: \\n {random_sentence}\\n Vectorized text:\\n {text_vectorizer([random_sentence])}\")"
      ]
    },
    {
      "cell_type": "code",
      "execution_count": 23,
      "metadata": {
        "colab": {
          "base_uri": "https://localhost:8080/"
        },
        "id": "NjyRAtc22PYZ",
        "outputId": "433dd308-84aa-4252-b704-1faccad2c7c4"
      },
      "outputs": [
        {
          "output_type": "stream",
          "name": "stdout",
          "text": [
            "Most common words: ['', '[UNK]', 'the', 'to', 'of', 'and', 'a', 'in', 'that', 'is']\n",
            "Least common words: ['memoir', 'maximize', 'matches', 'maryamiyyah', 'marginalized']\n",
            "Number of words in the vocab: 10000\n"
          ]
        }
      ],
      "source": [
        "# Get the unique words in our vocabulary\n",
        "words_in_vocab = text_vectorizer.get_vocabulary() # get all the unique words in the training data\n",
        "print(f\"Most common words: {words_in_vocab[:10]}\")\n",
        "print(f\"Least common words: {words_in_vocab[-5:]}\")\n",
        "print(f\"Number of words in the vocab: {len(words_in_vocab)}\")"
      ]
    },
    {
      "cell_type": "markdown",
      "metadata": {
        "id": "_A1plE0_3itZ"
      },
      "source": [
        "# Creating an Embedding Layer\n",
        "\n",
        "To make our embedding, we are going to use TensorFlow's embedding layer \n",
        "\n",
        "The parameters we care most about for our embedding layer:\n",
        "\n",
        "* `input_dims`: the size of the vocabulary \n",
        "* `output_dims`: the size of the output embedding vector, for example, a value of 100 would be 100 words long\n",
        "* `input_length`: length of the sequences being passed to the embedding layer"
      ]
    },
    {
      "cell_type": "code",
      "execution_count": 24,
      "metadata": {
        "id": "VRIq-Zh55QyW"
      },
      "outputs": [],
      "source": [
        "from tensorflow.keras import layers\n",
        "\n",
        "embedding = layers.Embedding(input_dim=len(words_in_vocab),\n",
        "                             output_dim=128,\n",
        "                             embeddings_initializer=\"uniform\",\n",
        "                             input_length=max_length)"
      ]
    },
    {
      "cell_type": "code",
      "execution_count": 25,
      "metadata": {
        "colab": {
          "base_uri": "https://localhost:8080/"
        },
        "id": "_yoBBvBP6ZVW",
        "outputId": "18e77f6f-59ad-4919-84d4-3313111032ae"
      },
      "outputs": [
        {
          "output_type": "execute_result",
          "data": {
            "text/plain": [
              "<keras.layers.core.embedding.Embedding at 0x7f7d201e1ed0>"
            ]
          },
          "metadata": {},
          "execution_count": 25
        }
      ],
      "source": [
        "embedding"
      ]
    },
    {
      "cell_type": "code",
      "execution_count": 26,
      "metadata": {
        "colab": {
          "base_uri": "https://localhost:8080/"
        },
        "id": "XNTUBDN56eAt",
        "outputId": "6831f891-97f7-481a-9324-74f5f12c538b"
      },
      "outputs": [
        {
          "output_type": "stream",
          "name": "stdout",
          "text": [
            "Original Text:\n",
            " ['The Clinton campaign blasted the FBI director, James Comey, for “jaw-dropping” double standards on Monday after claims that he had sought to withhold evidence of Russian support for Donald Trump for fear of influencing next week’s US election.\\n\\nIn a sharp escalation of their unprecedented war of words with federal law enforcement authorities, Clinton’s key aides contrasted this apparent caution with Comey’s controversial decision to release new details of its investigation into Clinton’s private email server to lawmakers on Friday.\\n\\n“It is impossible to view this as anything less than a blatant double standard,” her campaign manager, Robby Mook, told reporters, claiming the decision “defied all logic”, especially as other intelligence agencies had favoured disclosure of suspected Russian involvement.\\n\\n“Through these two decisions he shows he favours acting alone and without consulting … these are not the hallmarks of a responsible investigation,” added Mook.\\n\\nBoth CNBC and the Huffington Post have reported that Comey privately urged against naming Russia for allegedly meddling in the election and hacking Democratic email accounts.\\n\\nThough this advice has not been confirmed officially, it tallies with the fact the FBI’s name did not appear on a list of US intelligence agencies supporting the allegations.\\n\\n\\n\\n“A foreign power was trying to undermine the election. He believed it to be true but was against putting it out before the election,” one former official told CNBC. Comey’s position, this official reportedly said, was: “If it is said, it shouldn’t come from the FBI, which as you’ll recall it did not.”\\n\\n\\n\\nThe Clinton campaign called on Comey to “immediately explain this incongruence”.\\n\\n“He has set the standard for narrating a play-by-play,” added spokesman Brian Fallon. “If that is his way of handling things, he needs to take the same approach to the Trump campaign.”\\n\\nOn Monday night, NBC News reported that the FBI was conducting a preliminary inquiry into former Trump campaign manager Paul Manafort’s business ties to Russia, though it was not yet a criminal investigation. Manafort called the report “an outrageous smear being driven by Harry Reid and the Clinton campaign”.\\n\\nEarlier the White House highlighted concerns over the FBI director’s decision to announce that the bureau was examining whether newly discovered emails may be relevant to its investigation of Clinton’s use of a private email server.\\n\\n\\n\\nPress secretary Josh Earnest was careful to say that Comey is regarded by Barack Obama as a man of integrity and principle. But he also noted the importance of “longstanding tradition and practice and norms” and warned of the “risk” of communicating with Congress.\\n\\nComey has faced a fierce backlash for going public with the new FBI investigation just 11 days before a presidential election, reportedly against the advice and guidelines of the attorney general, Loretta Lynch, and other senior figures at the Department of Justice. On Sunday the FBI obtained a search warrant to begin reviewing the emails, reportedly numbering 650,000 and found on the laptop of Anthony Weiner, estranged husband of top Clinton aide Huma Abedin.\\n\\nOn Monday, a spokesman for the Office of Special Counsel indicated that the independent federal agency may be investigating Comey over an alleged violation of the Hatch Act, which guards against federal officials seeking to influence an election.\\n\\nAn emboldened Trump has described the revelation as “bigger than Watergate”, but there is little initial evidence the news has upended the presidential race. A Morning Consult/Politico poll carried out after the announcement put Clinton three points ahead, while a CBS/YouGov survey of likely voters in 13 battleground states showed that only 1% of Clinton supporters were less likely to vote for her as a consequence.\\n\\nTrump claimed on Monday that the FBI had stumbled across a digital “mother lode” and predicted they would discover missing work-related emails that had been deleted from Clinton’s computers.\\n\\n“Six hundred and fifty thousand [emails]? … I think you are going to find the 33,000 that are missing,” he told supporters in Michigan. “I think we hit the mother lode, as they say in the mining industry.”\\n\\nTrump urged Comey to resist political pressure. “He’s gotta hang tough because a lot of people think he did the wrong thing, but he did the right thing,” he told the Grand Rapids rally. “I was not his fan but what he did he brought back his reputation.”\\n\\n“It took guts for Director Comey to do what he did,” he added, to chants of “lock her up” from the crowd.\\n\\nTrump has seized on signs of momentum to push into once-safe Democratic territory in the industrial midwest. He was also due to speak in Warren in Michigan on Monday before appearing with running mate Mike Pence in Eau Claire, Wisconsin, on Tuesday.\\n\\nUntil his polling gap began to narrow again last week, Trump had been forced back to a dwindling number of swing states, while Clinton eyed Republican territory in Utah, Arizona and Georgia. Renewed optimism among Republicans has created an unusually vast national battleground, particularly as Trump’s economic populism scrambles traditional demographic dividing lines.\\n\\nMichigan and Wisconsin have both been hit hard by the loss of manufacturing jobs and were the scene of surprise defeats for Clinton in the Democratic primary, when large numbers of blue-collar workers favoured Bernie Sanders. Signs of Democratic nervousness in Wisconsin became apparent last week when the Clinton campaign suddenly announced an advertising blitz. Sanders has been dispatched to help campaign for Clinton in the state on Wednesday.\\n\\nThe impact of early voting may also be forcing Trump to look further afield. States such as a North Carolina have seen heavy early turnout among Democrats and may be relatively immune from any late swing away from Clinton.\\n\\nIf he cannot win North Carolina but picks up Florida and Ohio, Trump’s best hope of pulling off a shock victory will rely on either rustbelt states like Michigan and Wisconsin or, in the north-east, New Hampshire, Pennsylvania and Maine.\\n\\nClinton is redoubling her efforts. Two stops on Monday in Ohio were to be followed by three in Florida on Tuesday and another swing to North Carolina later in the week.\\n\\n“Most people have decided quite a long time ago what they think about all this,” she told a rally in Ohio on Monday. “Now what people are focused upon is choosing the next president and commander-in-chief.”\\n\\n“I am sure a lot of you may be asking what this email business is about and why in the world the FBI would decide to jump into an election without any evidence and it’s a good a question,” she said, to boos from a young crowd at Kent State University. “By all mean they should look at [the emails] and I am sure they will reach the same conclusion as when they looked at my emails: there is no case.”\\n\\nMeanwhile, Clinton suffered another blow from a separate source: the ongoing WikiLeaks release of emails from her campaign chairman, John Podesta. The latest batch appeared to show that Donna Brazile, the interim head of the Democratic National Committee and a CNN contributor, gave Clinton a heads up about a likely debate question the day before she was due to take on Sanders in a primary debate.\\n\\nCNN spokeswoman Lauren Pratapas said: “CNN never gave Brazile access to any questions, prep material, attendee list, background information or meetings in advance of a town hall or debate.”\\n\\nBrazile has subsequently announced her resignation from CNN.']\n",
            "\n",
            " Embedding version:\n"
          ]
        },
        {
          "output_type": "execute_result",
          "data": {
            "text/plain": [
              "<tf.Tensor: shape=(1, 759, 128), dtype=float32, numpy=\n",
              "array([[[ 0.03081545, -0.03352624, -0.00444466, ...,  0.0317281 ,\n",
              "         -0.01032395,  0.03891542],\n",
              "        [ 0.03455133,  0.0320583 , -0.02464421, ..., -0.01820944,\n",
              "          0.0448617 , -0.02527204],\n",
              "        [-0.04127326,  0.02899048,  0.00280672, ..., -0.01528386,\n",
              "          0.03881362,  0.02233691],\n",
              "        ...,\n",
              "        [ 0.03466613, -0.04868754, -0.00080075, ..., -0.0272495 ,\n",
              "          0.04967478, -0.04000904],\n",
              "        [ 0.00148825,  0.03039411,  0.03158665, ...,  0.00665032,\n",
              "         -0.02782434, -0.0437035 ],\n",
              "        [ 0.04226999, -0.04213995,  0.01571597, ..., -0.02070425,\n",
              "          0.00881185,  0.0358429 ]]], dtype=float32)>"
            ]
          },
          "metadata": {},
          "execution_count": 26
        }
      ],
      "source": [
        "# Get the random sentences from the training set\n",
        "random_sentence = random.choice(X_train)\n",
        "print(f\"Original Text:\\n {random_sentence}\\n\\n Embedding version:\")\n",
        "\n",
        "# Embed the random sentences (turn it into the dense vectors of fixed size)\n",
        "sample_embed = embedding(text_vectorizer([random_sentence]))\n",
        "sample_embed"
      ]
    },
    {
      "cell_type": "code",
      "execution_count": 27,
      "metadata": {
        "colab": {
          "base_uri": "https://localhost:8080/"
        },
        "id": "oDOH5syD7osw",
        "outputId": "1934b900-01f1-4c9a-d671-ab86503a6013"
      },
      "outputs": [
        {
          "output_type": "execute_result",
          "data": {
            "text/plain": [
              "(<tf.Tensor: shape=(128,), dtype=float32, numpy=\n",
              " array([ 3.08154486e-02, -3.35262418e-02, -4.44465876e-03, -3.44345719e-03,\n",
              "         3.86944674e-02,  3.48470844e-02, -2.96652559e-02,  2.29671858e-02,\n",
              "         3.72599252e-02, -1.93647277e-02, -2.95871496e-02, -2.90504582e-02,\n",
              "         3.52735445e-03, -3.72930989e-02, -2.51914617e-02, -2.87126433e-02,\n",
              "        -3.25446613e-02, -4.74015586e-02, -2.43320111e-02,  8.25933367e-03,\n",
              "        -3.68746296e-02,  3.18134092e-02, -1.65628307e-02,  1.72508880e-03,\n",
              "         1.43405236e-02,  2.80270725e-03,  3.40561941e-03, -3.81340384e-02,\n",
              "         2.06369199e-02, -1.54307261e-02,  4.59750630e-02,  1.28983893e-02,\n",
              "        -2.92456038e-02, -1.42949000e-02,  1.19074807e-02, -2.84015182e-02,\n",
              "         2.15475447e-02, -4.43179868e-02,  3.39653231e-02, -2.09831838e-02,\n",
              "         5.33374399e-03,  4.28171046e-02, -3.87776643e-04, -3.58333103e-02,\n",
              "         2.20402963e-02, -8.71545076e-03, -3.75754833e-02,  8.30372423e-03,\n",
              "        -9.43649560e-04, -4.47776169e-03,  1.17408261e-02,  3.53858136e-02,\n",
              "         1.49523355e-02,  7.96073675e-03, -4.38330062e-02, -1.28008351e-02,\n",
              "        -6.18648529e-03, -3.32598761e-03,  7.39619881e-03,  2.26637460e-02,\n",
              "         1.62301101e-02,  2.54288428e-02,  2.25535966e-02,  3.83531712e-02,\n",
              "        -4.12769541e-02,  2.37919129e-02, -1.29514448e-02,  1.52488798e-03,\n",
              "         8.87118652e-03, -3.27447280e-02,  2.62399651e-02,  3.69485877e-02,\n",
              "         1.91710703e-02,  1.12949014e-02,  4.80519272e-02,  4.89081852e-02,\n",
              "         2.25068592e-02, -3.33287008e-02,  2.59415768e-02, -4.34383266e-02,\n",
              "         4.76342440e-03,  1.01833567e-02, -1.87032297e-03, -4.14908305e-02,\n",
              "        -2.33602170e-02,  3.05848457e-02,  7.95385987e-03,  4.52534221e-02,\n",
              "        -1.64330713e-02,  3.51264738e-02, -2.39542853e-02,  1.27452724e-02,\n",
              "         7.64057785e-03,  3.06131691e-03,  3.32123078e-02, -3.09729930e-02,\n",
              "         4.93600965e-06, -3.09467912e-02,  3.93129848e-02, -1.69919021e-02,\n",
              "         2.45587118e-02, -4.75883968e-02,  2.42275037e-02, -4.53927405e-02,\n",
              "        -3.89925130e-02,  2.62693204e-02, -2.51975656e-02,  4.70181592e-02,\n",
              "        -1.24763846e-02, -2.66618859e-02,  1.05913281e-02, -1.83263794e-02,\n",
              "        -3.32623720e-03,  1.18844733e-02,  9.24418122e-03, -3.61035019e-03,\n",
              "        -2.51236912e-02,  3.09125297e-02, -3.77698429e-02,  4.98682000e-02,\n",
              "         3.44418027e-02,  1.01388693e-02, -2.17564236e-02, -2.53991242e-02,\n",
              "        -3.25779915e-02,  3.17281000e-02, -1.03239529e-02,  3.89154218e-02],\n",
              "       dtype=float32)>,\n",
              " TensorShape([128]),\n",
              " 'The Clinton campaign blasted the FBI director, James Comey, for “jaw-dropping” double standards on Monday after claims that he had sought to withhold evidence of Russian support for Donald Trump for fear of influencing next week’s US election.\\n\\nIn a sharp escalation of their unprecedented war of words with federal law enforcement authorities, Clinton’s key aides contrasted this apparent caution with Comey’s controversial decision to release new details of its investigation into Clinton’s private email server to lawmakers on Friday.\\n\\n“It is impossible to view this as anything less than a blatant double standard,” her campaign manager, Robby Mook, told reporters, claiming the decision “defied all logic”, especially as other intelligence agencies had favoured disclosure of suspected Russian involvement.\\n\\n“Through these two decisions he shows he favours acting alone and without consulting … these are not the hallmarks of a responsible investigation,” added Mook.\\n\\nBoth CNBC and the Huffington Post have reported that Comey privately urged against naming Russia for allegedly meddling in the election and hacking Democratic email accounts.\\n\\nThough this advice has not been confirmed officially, it tallies with the fact the FBI’s name did not appear on a list of US intelligence agencies supporting the allegations.\\n\\n\\n\\n“A foreign power was trying to undermine the election. He believed it to be true but was against putting it out before the election,” one former official told CNBC. Comey’s position, this official reportedly said, was: “If it is said, it shouldn’t come from the FBI, which as you’ll recall it did not.”\\n\\n\\n\\nThe Clinton campaign called on Comey to “immediately explain this incongruence”.\\n\\n“He has set the standard for narrating a play-by-play,” added spokesman Brian Fallon. “If that is his way of handling things, he needs to take the same approach to the Trump campaign.”\\n\\nOn Monday night, NBC News reported that the FBI was conducting a preliminary inquiry into former Trump campaign manager Paul Manafort’s business ties to Russia, though it was not yet a criminal investigation. Manafort called the report “an outrageous smear being driven by Harry Reid and the Clinton campaign”.\\n\\nEarlier the White House highlighted concerns over the FBI director’s decision to announce that the bureau was examining whether newly discovered emails may be relevant to its investigation of Clinton’s use of a private email server.\\n\\n\\n\\nPress secretary Josh Earnest was careful to say that Comey is regarded by Barack Obama as a man of integrity and principle. But he also noted the importance of “longstanding tradition and practice and norms” and warned of the “risk” of communicating with Congress.\\n\\nComey has faced a fierce backlash for going public with the new FBI investigation just 11 days before a presidential election, reportedly against the advice and guidelines of the attorney general, Loretta Lynch, and other senior figures at the Department of Justice. On Sunday the FBI obtained a search warrant to begin reviewing the emails, reportedly numbering 650,000 and found on the laptop of Anthony Weiner, estranged husband of top Clinton aide Huma Abedin.\\n\\nOn Monday, a spokesman for the Office of Special Counsel indicated that the independent federal agency may be investigating Comey over an alleged violation of the Hatch Act, which guards against federal officials seeking to influence an election.\\n\\nAn emboldened Trump has described the revelation as “bigger than Watergate”, but there is little initial evidence the news has upended the presidential race. A Morning Consult/Politico poll carried out after the announcement put Clinton three points ahead, while a CBS/YouGov survey of likely voters in 13 battleground states showed that only 1% of Clinton supporters were less likely to vote for her as a consequence.\\n\\nTrump claimed on Monday that the FBI had stumbled across a digital “mother lode” and predicted they would discover missing work-related emails that had been deleted from Clinton’s computers.\\n\\n“Six hundred and fifty thousand [emails]? … I think you are going to find the 33,000 that are missing,” he told supporters in Michigan. “I think we hit the mother lode, as they say in the mining industry.”\\n\\nTrump urged Comey to resist political pressure. “He’s gotta hang tough because a lot of people think he did the wrong thing, but he did the right thing,” he told the Grand Rapids rally. “I was not his fan but what he did he brought back his reputation.”\\n\\n“It took guts for Director Comey to do what he did,” he added, to chants of “lock her up” from the crowd.\\n\\nTrump has seized on signs of momentum to push into once-safe Democratic territory in the industrial midwest. He was also due to speak in Warren in Michigan on Monday before appearing with running mate Mike Pence in Eau Claire, Wisconsin, on Tuesday.\\n\\nUntil his polling gap began to narrow again last week, Trump had been forced back to a dwindling number of swing states, while Clinton eyed Republican territory in Utah, Arizona and Georgia. Renewed optimism among Republicans has created an unusually vast national battleground, particularly as Trump’s economic populism scrambles traditional demographic dividing lines.\\n\\nMichigan and Wisconsin have both been hit hard by the loss of manufacturing jobs and were the scene of surprise defeats for Clinton in the Democratic primary, when large numbers of blue-collar workers favoured Bernie Sanders. Signs of Democratic nervousness in Wisconsin became apparent last week when the Clinton campaign suddenly announced an advertising blitz. Sanders has been dispatched to help campaign for Clinton in the state on Wednesday.\\n\\nThe impact of early voting may also be forcing Trump to look further afield. States such as a North Carolina have seen heavy early turnout among Democrats and may be relatively immune from any late swing away from Clinton.\\n\\nIf he cannot win North Carolina but picks up Florida and Ohio, Trump’s best hope of pulling off a shock victory will rely on either rustbelt states like Michigan and Wisconsin or, in the north-east, New Hampshire, Pennsylvania and Maine.\\n\\nClinton is redoubling her efforts. Two stops on Monday in Ohio were to be followed by three in Florida on Tuesday and another swing to North Carolina later in the week.\\n\\n“Most people have decided quite a long time ago what they think about all this,” she told a rally in Ohio on Monday. “Now what people are focused upon is choosing the next president and commander-in-chief.”\\n\\n“I am sure a lot of you may be asking what this email business is about and why in the world the FBI would decide to jump into an election without any evidence and it’s a good a question,” she said, to boos from a young crowd at Kent State University. “By all mean they should look at [the emails] and I am sure they will reach the same conclusion as when they looked at my emails: there is no case.”\\n\\nMeanwhile, Clinton suffered another blow from a separate source: the ongoing WikiLeaks release of emails from her campaign chairman, John Podesta. The latest batch appeared to show that Donna Brazile, the interim head of the Democratic National Committee and a CNN contributor, gave Clinton a heads up about a likely debate question the day before she was due to take on Sanders in a primary debate.\\n\\nCNN spokeswoman Lauren Pratapas said: “CNN never gave Brazile access to any questions, prep material, attendee list, background information or meetings in advance of a town hall or debate.”\\n\\nBrazile has subsequently announced her resignation from CNN.')"
            ]
          },
          "metadata": {},
          "execution_count": 27
        }
      ],
      "source": [
        "# Check out single token's embedding\n",
        "sample_embed[0][0], sample_embed[0][0].shape, random_sentence[0]"
      ]
    },
    {
      "cell_type": "markdown",
      "metadata": {
        "id": "JhhpQM6vjP1A"
      },
      "source": [
        "# Modelling a text dataset "
      ]
    },
    {
      "cell_type": "markdown",
      "metadata": {
        "id": "VwWO3xmVjVq4"
      },
      "source": [
        "# `Model 0`: Naive Bayes(Baseline)"
      ]
    },
    {
      "cell_type": "code",
      "execution_count": 28,
      "metadata": {
        "colab": {
          "base_uri": "https://localhost:8080/",
          "height": 125
        },
        "id": "JsoDsxETnSGQ",
        "outputId": "5d128e54-0c02-4a6d-f801-846bef3330e3"
      },
      "outputs": [
        {
          "output_type": "execute_result",
          "data": {
            "text/plain": [
              "Pipeline(steps=[('tfidf', TfidfVectorizer()), ('clf', MultinomialNB())])"
            ],
            "text/html": [
              "<style>#sk-container-id-1 {color: black;background-color: white;}#sk-container-id-1 pre{padding: 0;}#sk-container-id-1 div.sk-toggleable {background-color: white;}#sk-container-id-1 label.sk-toggleable__label {cursor: pointer;display: block;width: 100%;margin-bottom: 0;padding: 0.3em;box-sizing: border-box;text-align: center;}#sk-container-id-1 label.sk-toggleable__label-arrow:before {content: \"▸\";float: left;margin-right: 0.25em;color: #696969;}#sk-container-id-1 label.sk-toggleable__label-arrow:hover:before {color: black;}#sk-container-id-1 div.sk-estimator:hover label.sk-toggleable__label-arrow:before {color: black;}#sk-container-id-1 div.sk-toggleable__content {max-height: 0;max-width: 0;overflow: hidden;text-align: left;background-color: #f0f8ff;}#sk-container-id-1 div.sk-toggleable__content pre {margin: 0.2em;color: black;border-radius: 0.25em;background-color: #f0f8ff;}#sk-container-id-1 input.sk-toggleable__control:checked~div.sk-toggleable__content {max-height: 200px;max-width: 100%;overflow: auto;}#sk-container-id-1 input.sk-toggleable__control:checked~label.sk-toggleable__label-arrow:before {content: \"▾\";}#sk-container-id-1 div.sk-estimator input.sk-toggleable__control:checked~label.sk-toggleable__label {background-color: #d4ebff;}#sk-container-id-1 div.sk-label input.sk-toggleable__control:checked~label.sk-toggleable__label {background-color: #d4ebff;}#sk-container-id-1 input.sk-hidden--visually {border: 0;clip: rect(1px 1px 1px 1px);clip: rect(1px, 1px, 1px, 1px);height: 1px;margin: -1px;overflow: hidden;padding: 0;position: absolute;width: 1px;}#sk-container-id-1 div.sk-estimator {font-family: monospace;background-color: #f0f8ff;border: 1px dotted black;border-radius: 0.25em;box-sizing: border-box;margin-bottom: 0.5em;}#sk-container-id-1 div.sk-estimator:hover {background-color: #d4ebff;}#sk-container-id-1 div.sk-parallel-item::after {content: \"\";width: 100%;border-bottom: 1px solid gray;flex-grow: 1;}#sk-container-id-1 div.sk-label:hover label.sk-toggleable__label {background-color: #d4ebff;}#sk-container-id-1 div.sk-serial::before {content: \"\";position: absolute;border-left: 1px solid gray;box-sizing: border-box;top: 0;bottom: 0;left: 50%;z-index: 0;}#sk-container-id-1 div.sk-serial {display: flex;flex-direction: column;align-items: center;background-color: white;padding-right: 0.2em;padding-left: 0.2em;position: relative;}#sk-container-id-1 div.sk-item {position: relative;z-index: 1;}#sk-container-id-1 div.sk-parallel {display: flex;align-items: stretch;justify-content: center;background-color: white;position: relative;}#sk-container-id-1 div.sk-item::before, #sk-container-id-1 div.sk-parallel-item::before {content: \"\";position: absolute;border-left: 1px solid gray;box-sizing: border-box;top: 0;bottom: 0;left: 50%;z-index: -1;}#sk-container-id-1 div.sk-parallel-item {display: flex;flex-direction: column;z-index: 1;position: relative;background-color: white;}#sk-container-id-1 div.sk-parallel-item:first-child::after {align-self: flex-end;width: 50%;}#sk-container-id-1 div.sk-parallel-item:last-child::after {align-self: flex-start;width: 50%;}#sk-container-id-1 div.sk-parallel-item:only-child::after {width: 0;}#sk-container-id-1 div.sk-dashed-wrapped {border: 1px dashed gray;margin: 0 0.4em 0.5em 0.4em;box-sizing: border-box;padding-bottom: 0.4em;background-color: white;}#sk-container-id-1 div.sk-label label {font-family: monospace;font-weight: bold;display: inline-block;line-height: 1.2em;}#sk-container-id-1 div.sk-label-container {text-align: center;}#sk-container-id-1 div.sk-container {/* jupyter's `normalize.less` sets `[hidden] { display: none; }` but bootstrap.min.css set `[hidden] { display: none !important; }` so we also need the `!important` here to be able to override the default hidden behavior on the sphinx rendered scikit-learn.org. See: https://github.com/scikit-learn/scikit-learn/issues/21755 */display: inline-block !important;position: relative;}#sk-container-id-1 div.sk-text-repr-fallback {display: none;}</style><div id=\"sk-container-id-1\" class=\"sk-top-container\"><div class=\"sk-text-repr-fallback\"><pre>Pipeline(steps=[(&#x27;tfidf&#x27;, TfidfVectorizer()), (&#x27;clf&#x27;, MultinomialNB())])</pre><b>In a Jupyter environment, please rerun this cell to show the HTML representation or trust the notebook. <br />On GitHub, the HTML representation is unable to render, please try loading this page with nbviewer.org.</b></div><div class=\"sk-container\" hidden><div class=\"sk-item sk-dashed-wrapped\"><div class=\"sk-label-container\"><div class=\"sk-label sk-toggleable\"><input class=\"sk-toggleable__control sk-hidden--visually\" id=\"sk-estimator-id-1\" type=\"checkbox\" ><label for=\"sk-estimator-id-1\" class=\"sk-toggleable__label sk-toggleable__label-arrow\">Pipeline</label><div class=\"sk-toggleable__content\"><pre>Pipeline(steps=[(&#x27;tfidf&#x27;, TfidfVectorizer()), (&#x27;clf&#x27;, MultinomialNB())])</pre></div></div></div><div class=\"sk-serial\"><div class=\"sk-item\"><div class=\"sk-estimator sk-toggleable\"><input class=\"sk-toggleable__control sk-hidden--visually\" id=\"sk-estimator-id-2\" type=\"checkbox\" ><label for=\"sk-estimator-id-2\" class=\"sk-toggleable__label sk-toggleable__label-arrow\">TfidfVectorizer</label><div class=\"sk-toggleable__content\"><pre>TfidfVectorizer()</pre></div></div></div><div class=\"sk-item\"><div class=\"sk-estimator sk-toggleable\"><input class=\"sk-toggleable__control sk-hidden--visually\" id=\"sk-estimator-id-3\" type=\"checkbox\" ><label for=\"sk-estimator-id-3\" class=\"sk-toggleable__label sk-toggleable__label-arrow\">MultinomialNB</label><div class=\"sk-toggleable__content\"><pre>MultinomialNB()</pre></div></div></div></div></div></div></div>"
            ]
          },
          "metadata": {},
          "execution_count": 28
        }
      ],
      "source": [
        "from sklearn.feature_extraction.text import TfidfVectorizer\n",
        "from sklearn.naive_bayes import MultinomialNB\n",
        "from sklearn.pipeline import Pipeline \n",
        "\n",
        "# Create tokenization and modelling pipeline \n",
        "model_0 = Pipeline([\n",
        "    (\"tfidf\", TfidfVectorizer()),\n",
        "    (\"clf\", MultinomialNB())\n",
        "])\n",
        "\n",
        "# Fit the pipeline to the training data\n",
        "model_0.fit(X_train.ravel(), Y_train.ravel())"
      ]
    },
    {
      "cell_type": "code",
      "execution_count": 29,
      "metadata": {
        "colab": {
          "base_uri": "https://localhost:8080/"
        },
        "id": "Fz0H1qQJqvH9",
        "outputId": "f9764845-2d05-44b7-cac2-71698ef0e605"
      },
      "outputs": [
        {
          "output_type": "execute_result",
          "data": {
            "text/plain": [
              "81.68902920284135"
            ]
          },
          "metadata": {},
          "execution_count": 29
        }
      ],
      "source": [
        "# Evaluate the baseline model_0\n",
        "baseline_score = model_0.score(X_test.ravel(), Y_test.ravel())\n",
        "baseline_score*100"
      ]
    },
    {
      "cell_type": "code",
      "execution_count": 30,
      "metadata": {
        "colab": {
          "base_uri": "https://localhost:8080/"
        },
        "id": "taEsIasErpPt",
        "outputId": "288454f9-9886-47a3-aee0-a3ff7d2faaa2"
      },
      "outputs": [
        {
          "output_type": "execute_result",
          "data": {
            "text/plain": [
              "array([0, 0, 0, 1, 0, 0, 1, 0, 1, 0])"
            ]
          },
          "metadata": {},
          "execution_count": 30
        }
      ],
      "source": [
        "# Make predictions \n",
        "baseline_preds = model_0.predict(X_test.ravel())\n",
        "baseline_preds[:10]"
      ]
    },
    {
      "cell_type": "code",
      "execution_count": 31,
      "metadata": {
        "id": "vyuWvxWosC7t"
      },
      "outputs": [],
      "source": [
        "# Creating a evaluation function for our model experiment\n",
        "\n",
        "import sklearn as sk\n",
        "def metrics(y_true, y_preds):\n",
        "  accuracy = sk.metrics.accuracy_score(y_true, y_preds) *100\n",
        "  precision = sk.metrics.precision_score(y_true, y_preds) * 100\n",
        "  recall = sk.metrics.recall_score(y_true, y_preds) * 100\n",
        "  f1 = sk.metrics.f1_score(y_true, y_preds) * 100\n",
        "\n",
        "  metrics_dict = {\"Accuracy\": accuracy,\n",
        "                  \"Precision\": precision,\n",
        "                  \"Recall\": recall,\n",
        "                  \"F1-score\": f1}\n",
        "  return metrics_dict"
      ]
    },
    {
      "cell_type": "code",
      "execution_count": 32,
      "metadata": {
        "colab": {
          "base_uri": "https://localhost:8080/"
        },
        "id": "cCegSEMMs8_l",
        "outputId": "f68adfeb-5284-4f9d-9caf-b9591d93a51f"
      },
      "outputs": [
        {
          "output_type": "execute_result",
          "data": {
            "text/plain": [
              "{'Accuracy': 81.68902920284135,\n",
              " 'Precision': 73.69033760186264,\n",
              " 'Recall': 99.06103286384976,\n",
              " 'F1-score': 84.51268357810414}"
            ]
          },
          "metadata": {},
          "execution_count": 32
        }
      ],
      "source": [
        "# Get the baseline results\n",
        "baseline_results = metrics(Y_test, baseline_preds)\n",
        "baseline_results\n"
      ]
    },
    {
      "cell_type": "markdown",
      "metadata": {
        "id": "hW4MOuk-3dOT"
      },
      "source": [
        "# `Model_1`: A simple dense model"
      ]
    },
    {
      "cell_type": "code",
      "execution_count": 33,
      "metadata": {
        "id": "8nE7AVhI3jCk"
      },
      "outputs": [],
      "source": [
        "# Build model with the Functional API\n",
        "from tensorflow.keras import layers\n",
        "inputs = layers.Input(shape=(1, ), dtype=tf.string) # inputs are 1D strings\n",
        "x = text_vectorizer(inputs) # turn the input text into numbers\n",
        "x = embedding(x) # Create an embedding of the numberized inputs\n",
        "x = layers.GlobalAveragePooling1D()(x) # condense the feature vector for each token to one vector\n",
        "outputs = layers.Dense(1, activation=\"sigmoid\")(x)\n",
        "model_1 = tf.keras.Model(inputs, outputs, name=\"model_1_dense\")\n"
      ]
    },
    {
      "cell_type": "code",
      "execution_count": 34,
      "metadata": {
        "colab": {
          "base_uri": "https://localhost:8080/"
        },
        "id": "--0npMdP5CmI",
        "outputId": "72c581b1-991e-4fa6-8dcb-3959d8a544cb"
      },
      "outputs": [
        {
          "output_type": "stream",
          "name": "stdout",
          "text": [
            "Model: \"model_1_dense\"\n",
            "_________________________________________________________________\n",
            " Layer (type)                Output Shape              Param #   \n",
            "=================================================================\n",
            " input_1 (InputLayer)        [(None, 1)]               0         \n",
            "                                                                 \n",
            " text_vectorization_1 (TextV  (None, 759)              0         \n",
            " ectorization)                                                   \n",
            "                                                                 \n",
            " embedding (Embedding)       (None, 759, 128)          1280000   \n",
            "                                                                 \n",
            " global_average_pooling1d (G  (None, 128)              0         \n",
            " lobalAveragePooling1D)                                          \n",
            "                                                                 \n",
            " dense (Dense)               (None, 1)                 129       \n",
            "                                                                 \n",
            "=================================================================\n",
            "Total params: 1,280,129\n",
            "Trainable params: 1,280,129\n",
            "Non-trainable params: 0\n",
            "_________________________________________________________________\n"
          ]
        }
      ],
      "source": [
        "model_1.summary()"
      ]
    },
    {
      "cell_type": "code",
      "execution_count": 35,
      "metadata": {
        "colab": {
          "base_uri": "https://localhost:8080/"
        },
        "id": "mnG1OIV96evt",
        "outputId": "8c02852b-9c62-4c7a-e161-7825ed184ca0"
      },
      "outputs": [
        {
          "output_type": "stream",
          "name": "stdout",
          "text": [
            "Epoch 1/5\n",
            "159/159 [==============================] - 39s 199ms/step - loss: 0.6375 - accuracy: 0.6669 - val_loss: 0.5729 - val_accuracy: 0.7174\n",
            "Epoch 2/5\n",
            "159/159 [==============================] - 29s 186ms/step - loss: 0.5181 - accuracy: 0.7936 - val_loss: 0.4403 - val_accuracy: 0.8508\n",
            "Epoch 3/5\n",
            "159/159 [==============================] - 23s 142ms/step - loss: 0.3990 - accuracy: 0.8621 - val_loss: 0.3523 - val_accuracy: 0.8627\n",
            "Epoch 4/5\n",
            "159/159 [==============================] - 15s 98ms/step - loss: 0.3231 - accuracy: 0.8794 - val_loss: 0.3058 - val_accuracy: 0.8761\n",
            "Epoch 5/5\n",
            "159/159 [==============================] - 12s 76ms/step - loss: 0.2745 - accuracy: 0.8966 - val_loss: 0.2734 - val_accuracy: 0.8871\n"
          ]
        }
      ],
      "source": [
        "# Compile the model \n",
        "model_1.compile(loss=\"binary_crossentropy\",\n",
        "                optimizer=\"Adam\",\n",
        "                metrics=[\"accuracy\"])\n",
        "# Fit the model\n",
        "hist_1 = model_1.fit(X_train,\n",
        "                     Y_train,\n",
        "                     epochs=5,\n",
        "                     validation_data=(X_test, Y_test),\n",
        "                     )"
      ]
    },
    {
      "cell_type": "code",
      "execution_count": 36,
      "metadata": {
        "colab": {
          "base_uri": "https://localhost:8080/"
        },
        "id": "OYUR--qn7xg5",
        "outputId": "d63bc91b-756b-4e40-ac87-fb7ffc612a6f"
      },
      "outputs": [
        {
          "output_type": "stream",
          "name": "stdout",
          "text": [
            "40/40 [==============================] - 0s 6ms/step - loss: 0.2734 - accuracy: 0.8871\n"
          ]
        },
        {
          "output_type": "execute_result",
          "data": {
            "text/plain": [
              "[0.27335309982299805, 0.8871349692344666]"
            ]
          },
          "metadata": {},
          "execution_count": 36
        }
      ],
      "source": [
        "# Check the results\n",
        "model_1.evaluate(X_test, Y_test)"
      ]
    },
    {
      "cell_type": "code",
      "execution_count": 37,
      "metadata": {
        "colab": {
          "base_uri": "https://localhost:8080/"
        },
        "id": "_QB5CQ1W776-",
        "outputId": "7a65a976-4a74-47bb-cfa6-69d70bdd8141"
      },
      "outputs": [
        {
          "output_type": "stream",
          "name": "stdout",
          "text": [
            "40/40 [==============================] - 0s 6ms/step\n"
          ]
        },
        {
          "output_type": "execute_result",
          "data": {
            "text/plain": [
              "array([0.00954304], dtype=float32)"
            ]
          },
          "metadata": {},
          "execution_count": 37
        }
      ],
      "source": [
        "# Make some predictions and evaluate them\n",
        "model_1_pred_probs = model_1.predict(X_test)\n",
        "model_1_pred_probs[0]"
      ]
    },
    {
      "cell_type": "code",
      "execution_count": 38,
      "metadata": {
        "colab": {
          "base_uri": "https://localhost:8080/"
        },
        "id": "epUAwWX18u6q",
        "outputId": "079ba4ed-6d6d-4246-d77b-1bb624d729b7"
      },
      "outputs": [
        {
          "output_type": "execute_result",
          "data": {
            "text/plain": [
              "array([[0.00954304],\n",
              "       [0.04829321],\n",
              "       [0.02791428],\n",
              "       [0.33956462],\n",
              "       [0.14709203],\n",
              "       [0.08165243],\n",
              "       [0.6031534 ],\n",
              "       [0.24301988],\n",
              "       [0.9746742 ],\n",
              "       [0.27930662]], dtype=float32)"
            ]
          },
          "metadata": {},
          "execution_count": 38
        }
      ],
      "source": [
        "# Look at the first 10 predictions\n",
        "model_1_pred_probs[:10]"
      ]
    },
    {
      "cell_type": "code",
      "execution_count": 39,
      "metadata": {
        "colab": {
          "base_uri": "https://localhost:8080/"
        },
        "id": "9nLYFps29Ksu",
        "outputId": "6016f1c4-6a24-4ab1-fb81-f28b52a407bf"
      },
      "outputs": [
        {
          "output_type": "execute_result",
          "data": {
            "text/plain": [
              "(1267, 1)"
            ]
          },
          "metadata": {},
          "execution_count": 39
        }
      ],
      "source": [
        "model_1_pred_probs.shape"
      ]
    },
    {
      "cell_type": "code",
      "execution_count": 40,
      "metadata": {
        "colab": {
          "base_uri": "https://localhost:8080/"
        },
        "id": "GmEh86Yt9QFa",
        "outputId": "66616f88-68ef-4ae9-d501-74e6eef24642"
      },
      "outputs": [
        {
          "output_type": "execute_result",
          "data": {
            "text/plain": [
              "<tf.Tensor: shape=(10,), dtype=float32, numpy=array([0., 0., 0., 0., 0., 0., 1., 0., 1., 0.], dtype=float32)>"
            ]
          },
          "metadata": {},
          "execution_count": 40
        }
      ],
      "source": [
        "# Convert the model prediction probabilities to label format'\n",
        "model_1_preds = tf.squeeze(tf.round(model_1_pred_probs))\n",
        "model_1_preds[:10]"
      ]
    },
    {
      "cell_type": "code",
      "execution_count": 41,
      "metadata": {
        "colab": {
          "base_uri": "https://localhost:8080/"
        },
        "id": "iYL19WOt9_UP",
        "outputId": "85f8e131-6234-4dad-cd80-d61514486d2f"
      },
      "outputs": [
        {
          "output_type": "execute_result",
          "data": {
            "text/plain": [
              "{'Accuracy': 88.71349644830308,\n",
              " 'Precision': 93.05555555555556,\n",
              " 'Recall': 83.8810641627543,\n",
              " 'F1-score': 88.23045267489714}"
            ]
          },
          "metadata": {},
          "execution_count": 41
        }
      ],
      "source": [
        "# Calculate our model 1 results\n",
        "model_1_results = metrics(Y_test, model_1_preds)\n",
        "model_1_results"
      ]
    },
    {
      "cell_type": "markdown",
      "metadata": {
        "id": "yyPJcgWVJcY6"
      },
      "source": [
        "# `Model_2`: LSTM(RNN)"
      ]
    },
    {
      "cell_type": "code",
      "execution_count": 42,
      "metadata": {
        "id": "vHQ_Pb-RJf1_"
      },
      "outputs": [],
      "source": [
        "# Create a LSTM model \n",
        "from tensorflow.keras import layers\n",
        "\n",
        "inputs = layers.Input(shape=(1, ), dtype=\"string\")\n",
        "x = text_vectorizer(inputs)\n",
        "x = embedding(x)\n",
        "x = layers.LSTM(64)(x)\n",
        "outputs = layers.Dense(1, activation=\"sigmoid\")(x)\n",
        "model_2 = tf.keras.Model(inputs, outputs, name=\"model_2_LSTM\")"
      ]
    },
    {
      "cell_type": "code",
      "execution_count": 43,
      "metadata": {
        "colab": {
          "base_uri": "https://localhost:8080/"
        },
        "id": "iLVjjAPtKVgV",
        "outputId": "667324ad-6225-4d5c-8281-e00a6f3c3ec1"
      },
      "outputs": [
        {
          "output_type": "stream",
          "name": "stdout",
          "text": [
            "Model: \"model_2_LSTM\"\n",
            "_________________________________________________________________\n",
            " Layer (type)                Output Shape              Param #   \n",
            "=================================================================\n",
            " input_2 (InputLayer)        [(None, 1)]               0         \n",
            "                                                                 \n",
            " text_vectorization_1 (TextV  (None, 759)              0         \n",
            " ectorization)                                                   \n",
            "                                                                 \n",
            " embedding (Embedding)       (None, 759, 128)          1280000   \n",
            "                                                                 \n",
            " lstm (LSTM)                 (None, 64)                49408     \n",
            "                                                                 \n",
            " dense_1 (Dense)             (None, 1)                 65        \n",
            "                                                                 \n",
            "=================================================================\n",
            "Total params: 1,329,473\n",
            "Trainable params: 1,329,473\n",
            "Non-trainable params: 0\n",
            "_________________________________________________________________\n"
          ]
        }
      ],
      "source": [
        "# Get the summary\n",
        "model_2.summary()"
      ]
    },
    {
      "cell_type": "code",
      "execution_count": 44,
      "metadata": {
        "colab": {
          "base_uri": "https://localhost:8080/"
        },
        "id": "98K3dUBDKeEt",
        "outputId": "27adf469-a99c-4c80-d327-65aebd6a9428"
      },
      "outputs": [
        {
          "output_type": "stream",
          "name": "stdout",
          "text": [
            "Epoch 1/5\n",
            "159/159 [==============================] - 35s 204ms/step - loss: 0.5440 - accuracy: 0.7464 - val_loss: 0.5611 - val_accuracy: 0.7837\n",
            "Epoch 2/5\n",
            "159/159 [==============================] - 26s 165ms/step - loss: 0.6107 - accuracy: 0.6606 - val_loss: 0.6119 - val_accuracy: 0.6575\n",
            "Epoch 3/5\n",
            "159/159 [==============================] - 21s 131ms/step - loss: 0.5483 - accuracy: 0.7186 - val_loss: 0.5358 - val_accuracy: 0.7024\n",
            "Epoch 4/5\n",
            "159/159 [==============================] - 18s 116ms/step - loss: 0.3943 - accuracy: 0.8086 - val_loss: 0.2978 - val_accuracy: 0.9140\n",
            "Epoch 5/5\n",
            "159/159 [==============================] - 18s 113ms/step - loss: 0.3043 - accuracy: 0.8962 - val_loss: 0.2856 - val_accuracy: 0.9053\n"
          ]
        }
      ],
      "source": [
        "# Compile the model\n",
        "model_2.compile(loss=\"binary_crossentropy\",\n",
        "                optimizer=\"Adam\",\n",
        "                metrics=[\"accuracy\"])\n",
        "\n",
        "# Fit the model\n",
        "hist_2 = model_2.fit(X_train,\n",
        "                     Y_train,\n",
        "                     epochs=5,\n",
        "                     validation_data=(X_test, Y_test),\n",
        "                     )"
      ]
    },
    {
      "cell_type": "code",
      "execution_count": 45,
      "metadata": {
        "colab": {
          "base_uri": "https://localhost:8080/"
        },
        "id": "rR9Va3rrLnSp",
        "outputId": "5c4b1c2c-1719-4a7b-e7a0-1888d1012a44"
      },
      "outputs": [
        {
          "output_type": "stream",
          "name": "stdout",
          "text": [
            "40/40 [==============================] - 1s 17ms/step\n"
          ]
        },
        {
          "output_type": "execute_result",
          "data": {
            "text/plain": [
              "array([[0.02490178],\n",
              "       [0.03735523],\n",
              "       [0.04097269],\n",
              "       [0.03735523],\n",
              "       [0.03735523],\n",
              "       [0.14616205],\n",
              "       [0.91454625],\n",
              "       [0.03735523],\n",
              "       [0.9665522 ],\n",
              "       [0.03735523]], dtype=float32)"
            ]
          },
          "metadata": {},
          "execution_count": 45
        }
      ],
      "source": [
        "# Make predictions with LSTM Model \n",
        "model_2_pred_probs = model_2.predict(X_test)\n",
        "model_2_pred_probs[:10]"
      ]
    },
    {
      "cell_type": "code",
      "execution_count": 46,
      "metadata": {
        "colab": {
          "base_uri": "https://localhost:8080/"
        },
        "id": "IlENv0CRMnL-",
        "outputId": "3bcf1860-020e-404f-d0cf-55afadeb3bdb"
      },
      "outputs": [
        {
          "output_type": "execute_result",
          "data": {
            "text/plain": [
              "<tf.Tensor: shape=(10,), dtype=float32, numpy=array([0., 0., 0., 0., 0., 0., 1., 0., 1., 0.], dtype=float32)>"
            ]
          },
          "metadata": {},
          "execution_count": 46
        }
      ],
      "source": [
        "# Convert the model_2_pred_probs into labels\n",
        "model_2_preds = tf.squeeze(tf.round(model_2_pred_probs))\n",
        "model_2_preds[:10]"
      ]
    },
    {
      "cell_type": "code",
      "execution_count": 47,
      "metadata": {
        "colab": {
          "base_uri": "https://localhost:8080/"
        },
        "id": "RXfk242VM-nV",
        "outputId": "38456aad-7375-42c9-ba0a-5de19a669d95"
      },
      "outputs": [
        {
          "output_type": "execute_result",
          "data": {
            "text/plain": [
              "{'Accuracy': 90.52880820836621,\n",
              " 'Precision': 88.44444444444444,\n",
              " 'Recall': 93.42723004694837,\n",
              " 'F1-score': 90.86757990867581}"
            ]
          },
          "metadata": {},
          "execution_count": 47
        }
      ],
      "source": [
        "# Calculate the model_2 results\n",
        "model_2_results = metrics(Y_test,\n",
        "                          model_2_preds)\n",
        "model_2_results"
      ]
    },
    {
      "cell_type": "markdown",
      "metadata": {
        "id": "QTYMfAkvNL19"
      },
      "source": [
        "# `Model_3`: GRU"
      ]
    },
    {
      "cell_type": "code",
      "execution_count": 48,
      "metadata": {
        "id": "SGwAdtmdNVrK"
      },
      "outputs": [],
      "source": [
        "# Build RNN using the GRU cell\n",
        "from tensorflow.keras import layers \n",
        "inputs = layers.Input(shape=(1,), dtype=\"string\")\n",
        "x = text_vectorizer(inputs)\n",
        "x = embedding(x) \n",
        "x = layers.GRU(64)(x)\n",
        "x = layers.Dense(64, activation=\"relu\")(x)\n",
        "outputs = layers.Dense(1, activation=\"sigmoid\")(x)\n",
        "model_3 = tf.keras.Model(inputs, outputs, name=\"model_3_GRU\")"
      ]
    },
    {
      "cell_type": "code",
      "execution_count": 49,
      "metadata": {
        "colab": {
          "base_uri": "https://localhost:8080/"
        },
        "id": "as01FIxxOBCQ",
        "outputId": "4b687425-317c-43e8-ba60-683ce06d192b"
      },
      "outputs": [
        {
          "output_type": "stream",
          "name": "stdout",
          "text": [
            "Model: \"model_3_GRU\"\n",
            "_________________________________________________________________\n",
            " Layer (type)                Output Shape              Param #   \n",
            "=================================================================\n",
            " input_3 (InputLayer)        [(None, 1)]               0         \n",
            "                                                                 \n",
            " text_vectorization_1 (TextV  (None, 759)              0         \n",
            " ectorization)                                                   \n",
            "                                                                 \n",
            " embedding (Embedding)       (None, 759, 128)          1280000   \n",
            "                                                                 \n",
            " gru (GRU)                   (None, 64)                37248     \n",
            "                                                                 \n",
            " dense_2 (Dense)             (None, 64)                4160      \n",
            "                                                                 \n",
            " dense_3 (Dense)             (None, 1)                 65        \n",
            "                                                                 \n",
            "=================================================================\n",
            "Total params: 1,321,473\n",
            "Trainable params: 1,321,473\n",
            "Non-trainable params: 0\n",
            "_________________________________________________________________\n"
          ]
        }
      ],
      "source": [
        "# Get the summary\n",
        "model_3.summary()"
      ]
    },
    {
      "cell_type": "code",
      "execution_count": 50,
      "metadata": {
        "colab": {
          "base_uri": "https://localhost:8080/"
        },
        "id": "Qzp-58hiOFPO",
        "outputId": "ee61884c-ddc6-4b27-f261-c7fdb8cab0eb"
      },
      "outputs": [
        {
          "output_type": "stream",
          "name": "stdout",
          "text": [
            "Epoch 1/5\n",
            "159/159 [==============================] - 34s 196ms/step - loss: 0.5563 - accuracy: 0.7121 - val_loss: 0.4421 - val_accuracy: 0.7782\n",
            "Epoch 2/5\n",
            "159/159 [==============================] - 27s 172ms/step - loss: 0.3905 - accuracy: 0.8506 - val_loss: 0.6637 - val_accuracy: 0.6093\n",
            "Epoch 3/5\n",
            "159/159 [==============================] - 22s 136ms/step - loss: 0.5991 - accuracy: 0.6582 - val_loss: 0.5793 - val_accuracy: 0.6819\n",
            "Epoch 4/5\n",
            "159/159 [==============================] - 17s 106ms/step - loss: 0.4674 - accuracy: 0.7366 - val_loss: 0.4757 - val_accuracy: 0.7388\n",
            "Epoch 5/5\n",
            "159/159 [==============================] - 14s 88ms/step - loss: 0.2784 - accuracy: 0.8621 - val_loss: 0.1771 - val_accuracy: 0.9345\n"
          ]
        }
      ],
      "source": [
        "# Compile the model\n",
        "model_3.compile(loss=\"binary_crossentropy\",\n",
        "                optimizer=\"Adam\",\n",
        "                metrics=[\"accuracy\"])\n",
        "\n",
        "# Fit the model\n",
        "hist_3 = model_3.fit(X_train,\n",
        "                     Y_train,\n",
        "                     epochs=5,\n",
        "                     validation_data=(X_test, Y_test),\n",
        "                     )"
      ]
    },
    {
      "cell_type": "code",
      "execution_count": 51,
      "metadata": {
        "colab": {
          "base_uri": "https://localhost:8080/"
        },
        "id": "Z8tfW1sAPaer",
        "outputId": "b4071245-d3e3-40de-eb47-88e47fd7086e"
      },
      "outputs": [
        {
          "output_type": "stream",
          "name": "stdout",
          "text": [
            "40/40 [==============================] - 1s 18ms/step\n"
          ]
        },
        {
          "output_type": "execute_result",
          "data": {
            "text/plain": [
              "array([[0.03376852],\n",
              "       [0.02015942],\n",
              "       [0.02723755],\n",
              "       [0.02912005],\n",
              "       [0.02319767],\n",
              "       [0.04919617],\n",
              "       [0.6077939 ],\n",
              "       [0.02294972],\n",
              "       [0.9983028 ],\n",
              "       [0.06828299]], dtype=float32)"
            ]
          },
          "metadata": {},
          "execution_count": 51
        }
      ],
      "source": [
        "# Make some predictions with our GRU model\n",
        "model_3_pred_probs = model_3.predict(X_test)\n",
        "model_3_pred_probs[:10]"
      ]
    },
    {
      "cell_type": "code",
      "execution_count": 52,
      "metadata": {
        "colab": {
          "base_uri": "https://localhost:8080/"
        },
        "id": "_HZP-OpiRlcd",
        "outputId": "2a5dfffa-35fa-4b24-ce85-14cc5a217ecf"
      },
      "outputs": [
        {
          "output_type": "execute_result",
          "data": {
            "text/plain": [
              "<tf.Tensor: shape=(10,), dtype=float32, numpy=array([0., 0., 0., 0., 0., 0., 1., 0., 1., 0.], dtype=float32)>"
            ]
          },
          "metadata": {},
          "execution_count": 52
        }
      ],
      "source": [
        "# Convert the model_3 preds probs to label\n",
        "model_3_preds = tf.squeeze(tf.round(model_3_pred_probs))\n",
        "model_3_preds[:10]"
      ]
    },
    {
      "cell_type": "code",
      "execution_count": 53,
      "metadata": {
        "colab": {
          "base_uri": "https://localhost:8080/"
        },
        "id": "ZjUzuZHfRz8m",
        "outputId": "e16175fa-4c3e-4414-c342-db3eaea3504e"
      },
      "outputs": [
        {
          "output_type": "execute_result",
          "data": {
            "text/plain": [
              "{'Accuracy': 93.44909234411996,\n",
              " 'Precision': 91.99395770392749,\n",
              " 'Recall': 95.30516431924883,\n",
              " 'F1-score': 93.62029208301307}"
            ]
          },
          "metadata": {},
          "execution_count": 53
        }
      ],
      "source": [
        "# Calculate model_3 results\n",
        "model_3_results = metrics(Y_test,\n",
        "                          model_3_preds)\n",
        "model_3_results"
      ]
    },
    {
      "cell_type": "markdown",
      "metadata": {
        "id": "S_7mHiGGStAr"
      },
      "source": [
        "# `Model_4`: Bidirectional RNN"
      ]
    },
    {
      "cell_type": "code",
      "execution_count": 54,
      "metadata": {
        "id": "a7QDVWnJSxLx"
      },
      "outputs": [],
      "source": [
        "# Build a bidirectional RNN\n",
        "from tensorflow.keras import layers\n",
        "inputs = layers.Input(shape=(1,), dtype=\"string\")\n",
        "x = text_vectorizer(inputs)\n",
        "x = embedding(x)\n",
        "x = layers.Bidirectional(layers.LSTM(64))(x)\n",
        "outputs = layers.Dense(1, activation=\"sigmoid\")(x)\n",
        "model_4 = tf.keras.Model(inputs, outputs, name=\"model_4_bidirectional_RNN\")\n"
      ]
    },
    {
      "cell_type": "code",
      "execution_count": 55,
      "metadata": {
        "colab": {
          "base_uri": "https://localhost:8080/"
        },
        "id": "rSOhQR2IUanO",
        "outputId": "930dc791-dd56-4ea8-dd63-3c55b87022ea"
      },
      "outputs": [
        {
          "output_type": "stream",
          "name": "stdout",
          "text": [
            "Model: \"model_4_bidirectional_RNN\"\n",
            "_________________________________________________________________\n",
            " Layer (type)                Output Shape              Param #   \n",
            "=================================================================\n",
            " input_4 (InputLayer)        [(None, 1)]               0         \n",
            "                                                                 \n",
            " text_vectorization_1 (TextV  (None, 759)              0         \n",
            " ectorization)                                                   \n",
            "                                                                 \n",
            " embedding (Embedding)       (None, 759, 128)          1280000   \n",
            "                                                                 \n",
            " bidirectional (Bidirectiona  (None, 128)              98816     \n",
            " l)                                                              \n",
            "                                                                 \n",
            " dense_4 (Dense)             (None, 1)                 129       \n",
            "                                                                 \n",
            "=================================================================\n",
            "Total params: 1,378,945\n",
            "Trainable params: 1,378,945\n",
            "Non-trainable params: 0\n",
            "_________________________________________________________________\n"
          ]
        }
      ],
      "source": [
        "# Get the summary\n",
        "model_4.summary()"
      ]
    },
    {
      "cell_type": "code",
      "execution_count": 56,
      "metadata": {
        "colab": {
          "base_uri": "https://localhost:8080/"
        },
        "id": "aHp_IiibUh7b",
        "outputId": "d44952c5-6eb8-4c4b-9e37-203869ad79b9"
      },
      "outputs": [
        {
          "output_type": "stream",
          "name": "stdout",
          "text": [
            "Epoch 1/5\n",
            "159/159 [==============================] - 39s 220ms/step - loss: 0.1996 - accuracy: 0.9284 - val_loss: 0.1937 - val_accuracy: 0.9305\n",
            "Epoch 2/5\n",
            "159/159 [==============================] - 27s 174ms/step - loss: 0.1212 - accuracy: 0.9538 - val_loss: 0.2084 - val_accuracy: 0.9179\n",
            "Epoch 3/5\n",
            "159/159 [==============================] - 22s 139ms/step - loss: 0.0787 - accuracy: 0.9743 - val_loss: 0.1744 - val_accuracy: 0.9440\n",
            "Epoch 4/5\n",
            "159/159 [==============================] - 20s 124ms/step - loss: 0.0578 - accuracy: 0.9813 - val_loss: 0.2090 - val_accuracy: 0.9211\n",
            "Epoch 5/5\n",
            "159/159 [==============================] - 16s 100ms/step - loss: 0.0451 - accuracy: 0.9866 - val_loss: 0.2116 - val_accuracy: 0.9345\n"
          ]
        }
      ],
      "source": [
        "# Compile the model\n",
        "model_4.compile(loss=\"binary_crossentropy\",\n",
        "                optimizer=\"Adam\",\n",
        "                metrics=[\"accuracy\"])\n",
        "\n",
        "# Fit the model\n",
        "hist_4 = model_4.fit(X_train,\n",
        "                     Y_train,\n",
        "                     epochs=5,\n",
        "                     validation_data=(X_test, Y_test),\n",
        "                     )"
      ]
    },
    {
      "cell_type": "code",
      "execution_count": 57,
      "metadata": {
        "colab": {
          "base_uri": "https://localhost:8080/"
        },
        "id": "crm2UZdSWIGx",
        "outputId": "c5f19780-9722-42c7-bcbd-0f5ab8aeb3f8"
      },
      "outputs": [
        {
          "output_type": "stream",
          "name": "stdout",
          "text": [
            "40/40 [==============================] - 2s 25ms/step\n"
          ]
        },
        {
          "output_type": "execute_result",
          "data": {
            "text/plain": [
              "array([[2.5209945e-02],\n",
              "       [6.5072346e-03],\n",
              "       [3.4578287e-04],\n",
              "       [6.8194671e-03],\n",
              "       [1.8932699e-03],\n",
              "       [7.4537873e-04],\n",
              "       [2.0071930e-01],\n",
              "       [9.4893313e-04],\n",
              "       [9.9998426e-01],\n",
              "       [3.1423338e-03]], dtype=float32)"
            ]
          },
          "metadata": {},
          "execution_count": 57
        }
      ],
      "source": [
        "# Make predictions for the bidirectional model\n",
        "model_4_pred_probs = model_4.predict(X_test)\n",
        "model_4_pred_probs[:10]"
      ]
    },
    {
      "cell_type": "code",
      "execution_count": 58,
      "metadata": {
        "colab": {
          "base_uri": "https://localhost:8080/"
        },
        "id": "ncultmbDWV8z",
        "outputId": "eff3f9ea-2fd2-41c8-f81e-d313cc7bcc08"
      },
      "outputs": [
        {
          "output_type": "execute_result",
          "data": {
            "text/plain": [
              "<tf.Tensor: shape=(10,), dtype=float32, numpy=array([0., 0., 0., 0., 0., 0., 0., 0., 1., 0.], dtype=float32)>"
            ]
          },
          "metadata": {},
          "execution_count": 58
        }
      ],
      "source": [
        "# Convert the pred probs to pred labels\n",
        "model_4_preds = tf.squeeze(tf.round(model_4_pred_probs))\n",
        "model_4_preds[:10]"
      ]
    },
    {
      "cell_type": "code",
      "execution_count": 59,
      "metadata": {
        "colab": {
          "base_uri": "https://localhost:8080/"
        },
        "id": "ZWY-bRnUWmly",
        "outputId": "0bbad7b2-1d18-4dd7-ac88-c93ae9b75e9f"
      },
      "outputs": [
        {
          "output_type": "execute_result",
          "data": {
            "text/plain": [
              "{'Accuracy': 93.44909234411996,\n",
              " 'Precision': 94.69453376205787,\n",
              " 'Recall': 92.17527386541471,\n",
              " 'F1-score': 93.41792228390166}"
            ]
          },
          "metadata": {},
          "execution_count": 59
        }
      ],
      "source": [
        "# Calculate the results of our bidirectional model\n",
        "model_4_results = metrics(Y_test,\n",
        "                          model_4_preds)\n",
        "model_4_results"
      ]
    },
    {
      "cell_type": "markdown",
      "metadata": {
        "id": "FkjJcZVnXOgl"
      },
      "source": [
        "# Testing CNN for text data"
      ]
    },
    {
      "cell_type": "markdown",
      "metadata": {
        "id": "PlAuyQN7XTbA"
      },
      "source": [
        "# `Model_5`: Conv1D"
      ]
    },
    {
      "cell_type": "code",
      "execution_count": 60,
      "metadata": {
        "colab": {
          "base_uri": "https://localhost:8080/"
        },
        "id": "B_znG6EyXYcT",
        "outputId": "93342273-a36c-412a-9ea9-d87652cc2b1f"
      },
      "outputs": [
        {
          "output_type": "execute_result",
          "data": {
            "text/plain": [
              "(TensorShape([1, 759, 128]), TensorShape([1, 755, 32]), TensorShape([1, 32]))"
            ]
          },
          "metadata": {},
          "execution_count": 60
        }
      ],
      "source": [
        "# Test our embedding layer, Conv1D layer and Max Pooling\n",
        "\n",
        "embedding_test = embedding(text_vectorizer([\"This is a test sentence\"]))\n",
        "conv1D = layers.Conv1D(filters=32,\n",
        "                       kernel_size=5,\n",
        "                       activation=\"relu\",\n",
        "                       padding=\"valid\")\n",
        "\n",
        "conv1D_output = conv1D(embedding_test) \n",
        "max_pool = layers.GlobalMaxPooling1D()\n",
        "max_pool_outputs = max_pool(conv1D_output)\n",
        "\n",
        "embedding_test.shape, conv1D_output.shape, max_pool_outputs.shape"
      ]
    },
    {
      "cell_type": "code",
      "execution_count": 61,
      "metadata": {
        "colab": {
          "base_uri": "https://localhost:8080/"
        },
        "id": "HUxRfCF5ZLht",
        "outputId": "9e3127c8-ea51-481a-ee5b-b2c655ff2657"
      },
      "outputs": [
        {
          "output_type": "execute_result",
          "data": {
            "text/plain": [
              "<tf.Tensor: shape=(1, 759, 128), dtype=float32, numpy=\n",
              "array([[[ 0.20270194,  0.36075422, -0.33892742, ...,  0.4943913 ,\n",
              "          0.18254867, -0.06758714],\n",
              "        [ 0.03689335,  0.144692  , -0.15466884, ...,  0.22882132,\n",
              "          0.02940286,  0.00617046],\n",
              "        [-0.23114643, -0.18189666,  0.16535577, ..., -0.205018  ,\n",
              "         -0.2012199 ,  0.16501026],\n",
              "        ...,\n",
              "        [-0.04013627,  0.02376723, -0.01676841, ...,  0.02925005,\n",
              "         -0.02517498, -0.05252654],\n",
              "        [-0.04013627,  0.02376723, -0.01676841, ...,  0.02925005,\n",
              "         -0.02517498, -0.05252654],\n",
              "        [-0.04013627,  0.02376723, -0.01676841, ...,  0.02925005,\n",
              "         -0.02517498, -0.05252654]]], dtype=float32)>"
            ]
          },
          "metadata": {},
          "execution_count": 61
        }
      ],
      "source": [
        "embedding_test"
      ]
    },
    {
      "cell_type": "code",
      "execution_count": 62,
      "metadata": {
        "colab": {
          "base_uri": "https://localhost:8080/"
        },
        "id": "4tP94msWZvqK",
        "outputId": "0c7b5671-636f-47a3-a9f5-3ff1bb6af959"
      },
      "outputs": [
        {
          "output_type": "execute_result",
          "data": {
            "text/plain": [
              "<tf.Tensor: shape=(1, 755, 32), dtype=float32, numpy=\n",
              "array([[[0.07477159, 0.08513016, 0.        , ..., 0.13437162,\n",
              "         0.05958943, 0.08208279],\n",
              "        [0.        , 0.        , 0.1305309 , ..., 0.        ,\n",
              "         0.02059931, 0.        ],\n",
              "        [0.        , 0.        , 0.11705164, ..., 0.        ,\n",
              "         0.        , 0.        ],\n",
              "        ...,\n",
              "        [0.04768194, 0.        , 0.01368017, ..., 0.        ,\n",
              "         0.02182761, 0.        ],\n",
              "        [0.04768194, 0.        , 0.01368017, ..., 0.        ,\n",
              "         0.02182761, 0.        ],\n",
              "        [0.04768194, 0.        , 0.01368017, ..., 0.        ,\n",
              "         0.02182761, 0.        ]]], dtype=float32)>"
            ]
          },
          "metadata": {},
          "execution_count": 62
        }
      ],
      "source": [
        "conv1D_output"
      ]
    },
    {
      "cell_type": "code",
      "execution_count": 63,
      "metadata": {
        "colab": {
          "base_uri": "https://localhost:8080/"
        },
        "id": "CeVLqOaaZzWf",
        "outputId": "1cd7b2e2-2af3-4a12-b9d8-a522f6f9e379"
      },
      "outputs": [
        {
          "output_type": "execute_result",
          "data": {
            "text/plain": [
              "<tf.Tensor: shape=(1, 32), dtype=float32, numpy=\n",
              "array([[0.07477159, 0.08513016, 0.1305309 , 0.19537029, 0.39472723,\n",
              "        0.32177258, 0.12408724, 0.02977894, 0.20620339, 0.2508885 ,\n",
              "        0.        , 0.05940378, 0.05073293, 0.        , 0.10688633,\n",
              "        0.25041208, 0.36306217, 0.39606774, 0.25565243, 0.        ,\n",
              "        0.13345253, 0.06025103, 0.07340831, 0.41706228, 0.05390992,\n",
              "        0.21498774, 0.17452347, 0.15290949, 0.23885179, 0.13437162,\n",
              "        0.05958943, 0.08208279]], dtype=float32)>"
            ]
          },
          "metadata": {},
          "execution_count": 63
        }
      ],
      "source": [
        "max_pool_outputs"
      ]
    },
    {
      "cell_type": "code",
      "execution_count": 64,
      "metadata": {
        "id": "zVGI-s7QZ0Ws"
      },
      "outputs": [],
      "source": [
        "# Create a 1D convolutional layer to model sequences\n",
        "from tensorflow.keras import layers\n",
        "inputs = layers.Input(shape=(1,), dtype=\"string\") \n",
        "x = text_vectorizer(inputs)\n",
        "x = embedding(x)\n",
        "x = layers.Conv1D(filters=32, kernel_size=5, activation=\"relu\", padding=\"valid\")(x)\n",
        "x = layers.GlobalMaxPool1D()(x)\n",
        "outputs = layers.Dense(1, activation=\"sigmoid\")(x)\n",
        "model_5 = tf.keras.Model(inputs, outputs, name=\"model_5_conv1D\")\n"
      ]
    },
    {
      "cell_type": "code",
      "execution_count": 65,
      "metadata": {
        "colab": {
          "base_uri": "https://localhost:8080/"
        },
        "id": "a2Is9LXlb0Cn",
        "outputId": "5ff70eed-cc48-4d87-b2e8-fd78a5643781"
      },
      "outputs": [
        {
          "output_type": "stream",
          "name": "stdout",
          "text": [
            "Epoch 1/5\n",
            "159/159 [==============================] - 28s 159ms/step - loss: 0.2285 - accuracy: 0.9152 - val_loss: 0.2154 - val_accuracy: 0.9148\n",
            "Epoch 2/5\n",
            "159/159 [==============================] - 19s 118ms/step - loss: 0.1582 - accuracy: 0.9394 - val_loss: 0.2068 - val_accuracy: 0.9282\n",
            "Epoch 3/5\n",
            "159/159 [==============================] - 17s 108ms/step - loss: 0.1204 - accuracy: 0.9554 - val_loss: 0.2064 - val_accuracy: 0.9234\n",
            "Epoch 4/5\n",
            "159/159 [==============================] - 15s 96ms/step - loss: 0.0865 - accuracy: 0.9714 - val_loss: 0.1897 - val_accuracy: 0.9298\n",
            "Epoch 5/5\n",
            "159/159 [==============================] - 11s 70ms/step - loss: 0.0580 - accuracy: 0.9858 - val_loss: 0.1938 - val_accuracy: 0.9258\n"
          ]
        }
      ],
      "source": [
        "# Compile the model\n",
        "model_5.compile(loss=\"binary_crossentropy\",\n",
        "                optimizer=\"Adam\",\n",
        "                metrics=[\"accuracy\"])\n",
        "\n",
        "# Fit the model\n",
        "hist_5 = model_5.fit(X_train, \n",
        "                     Y_train,\n",
        "                     epochs=5,\n",
        "                     validation_data=(X_test, Y_test),\n",
        "                     )"
      ]
    },
    {
      "cell_type": "code",
      "execution_count": 66,
      "metadata": {
        "colab": {
          "base_uri": "https://localhost:8080/"
        },
        "id": "fb-URj6Mc-Og",
        "outputId": "ad308caa-1350-4808-e77d-dea771c57875"
      },
      "outputs": [
        {
          "output_type": "stream",
          "name": "stdout",
          "text": [
            "40/40 [==============================] - 0s 6ms/step\n"
          ]
        },
        {
          "output_type": "execute_result",
          "data": {
            "text/plain": [
              "array([[1.41533045e-02],\n",
              "       [1.55599811e-03],\n",
              "       [2.07573026e-02],\n",
              "       [1.59914125e-05],\n",
              "       [8.40566008e-06],\n",
              "       [3.20368230e-01],\n",
              "       [5.85700631e-01],\n",
              "       [3.18227285e-05],\n",
              "       [9.76571321e-01],\n",
              "       [5.73910296e-01]], dtype=float32)"
            ]
          },
          "metadata": {},
          "execution_count": 66
        }
      ],
      "source": [
        "# Make some predictions with conv1D model\n",
        "model_5_pred_probs = model_5.predict(X_test)\n",
        "model_5_pred_probs[:10]"
      ]
    },
    {
      "cell_type": "code",
      "execution_count": 67,
      "metadata": {
        "colab": {
          "base_uri": "https://localhost:8080/"
        },
        "id": "qiXLc0W9dMfL",
        "outputId": "40c44185-fe7d-49fa-9e9d-8e0f72f01aef"
      },
      "outputs": [
        {
          "output_type": "execute_result",
          "data": {
            "text/plain": [
              "<tf.Tensor: shape=(10,), dtype=float32, numpy=array([0., 0., 0., 0., 0., 0., 1., 0., 1., 1.], dtype=float32)>"
            ]
          },
          "metadata": {},
          "execution_count": 67
        }
      ],
      "source": [
        "# Convert model 5 pred probs to label\n",
        "model_5_preds = tf.squeeze(tf.round(model_5_pred_probs))\n",
        "model_5_preds[:10]"
      ]
    },
    {
      "cell_type": "code",
      "execution_count": 68,
      "metadata": {
        "colab": {
          "base_uri": "https://localhost:8080/"
        },
        "id": "0PIQxyctdkgq",
        "outputId": "3a1b5d55-05bd-4830-b762-513b2fd282b6"
      },
      "outputs": [
        {
          "output_type": "execute_result",
          "data": {
            "text/plain": [
              "{'Accuracy': 92.5808997632202,\n",
              " 'Precision': 93.46092503987241,\n",
              " 'Recall': 91.70579029733959,\n",
              " 'F1-score': 92.57503949447077}"
            ]
          },
          "metadata": {},
          "execution_count": 68
        }
      ],
      "source": [
        "# Evaluate the model 5 predictions\n",
        "model_5_results = metrics(Y_test,\n",
        "                          model_5_preds)\n",
        "model_5_results"
      ]
    },
    {
      "cell_type": "markdown",
      "metadata": {
        "id": "3i4_SGkpfIvv"
      },
      "source": [
        "# `Model 6`: Tensorflow Hub Pretrained Sentence Encoder"
      ]
    },
    {
      "cell_type": "code",
      "execution_count": 69,
      "metadata": {
        "colab": {
          "base_uri": "https://localhost:8080/"
        },
        "id": "MuvnkrlGfV-5",
        "outputId": "4ce1de0d-d3c7-4f15-a2fb-c71317edf2e4"
      },
      "outputs": [
        {
          "output_type": "stream",
          "name": "stdout",
          "text": [
            "tf.Tensor(\n",
            "[-0.02373554 -0.03778899 -0.0055454  -0.00381855 -0.04025145  0.02595629\n",
            "  0.01935928 -0.00203727  0.05029247  0.00520264 -0.08228376  0.05333052\n",
            "  0.06480763  0.07542918  0.01254224 -0.08130664  0.01259611  0.02526177\n",
            " -0.02920272  0.01864131 -0.01844542  0.04170033  0.03297575  0.03366062\n",
            "  0.06584937 -0.03050619 -0.00701076  0.01742079  0.06054207 -0.04512301\n",
            "  0.00132934 -0.05745792  0.05909359  0.04803358  0.06251644  0.00143036\n",
            "  0.02294566 -0.03021138 -0.08636472  0.00142817 -0.02772044 -0.01551558\n",
            "  0.01321827  0.06576098  0.06217813  0.03272587 -0.00889022 -0.01994445\n",
            "  0.02182555 -0.05619378], shape=(50,), dtype=float32)\n"
          ]
        }
      ],
      "source": [
        "import tensorflow_hub as hub\n",
        "embed = hub.load(\"https://tfhub.dev/google/universal-sentence-encoder/4\")\n",
        "embed_samples = embed([sample_sentence,\n",
        "                        \"When you call the USE on a sentence, it turns it into numbers\"])\n",
        "print(embed_samples[0][:50])"
      ]
    },
    {
      "cell_type": "code",
      "execution_count": 70,
      "metadata": {
        "colab": {
          "base_uri": "https://localhost:8080/"
        },
        "id": "dfxS92CvgsY0",
        "outputId": "af9accbb-beef-43b1-8efa-2deb6cff926e"
      },
      "outputs": [
        {
          "output_type": "execute_result",
          "data": {
            "text/plain": [
              "TensorShape([512])"
            ]
          },
          "metadata": {},
          "execution_count": 70
        }
      ],
      "source": [
        "embed_samples[0].shape"
      ]
    },
    {
      "cell_type": "code",
      "execution_count": 71,
      "metadata": {
        "id": "WeXrVfIpg3JA"
      },
      "outputs": [],
      "source": [
        "# Create a keras layer using USE pretrained layer from TensorFlow Hub\n",
        "\n",
        "sentence_encoder_layer = hub.KerasLayer(\"https://tfhub.dev/google/universal-sentence-encoder/4\",\n",
        "                                        input_shape=[],\n",
        "                                        dtype=\"string\",\n",
        "                                        trainable=False,\n",
        "                                        name=\"USE\")"
      ]
    },
    {
      "cell_type": "code",
      "execution_count": 72,
      "metadata": {
        "id": "E3YuL89yhhGa"
      },
      "outputs": [],
      "source": [
        "# Create a model using Sequential API\n",
        "model_6 = tf.keras.Sequential([\n",
        "    sentence_encoder_layer,\n",
        "    layers.Dense(64, activation=\"relu\"),\n",
        "    layers.Dense(1, activation=\"sigmoid\")\n",
        "],name=\"model_6_USE\")\n",
        "\n",
        "# Compile the model\n",
        "model_6.compile(loss=\"binary_crossentropy\",\n",
        "                optimizer=\"Adam\",\n",
        "                metrics=['accuracy'])\n"
      ]
    },
    {
      "cell_type": "code",
      "execution_count": 73,
      "metadata": {
        "colab": {
          "base_uri": "https://localhost:8080/"
        },
        "id": "beZceYu9iLJ6",
        "outputId": "2547b0e8-15e6-4832-adfe-c197a6cd7033"
      },
      "outputs": [
        {
          "output_type": "stream",
          "name": "stdout",
          "text": [
            "Model: \"model_6_USE\"\n",
            "_________________________________________________________________\n",
            " Layer (type)                Output Shape              Param #   \n",
            "=================================================================\n",
            " USE (KerasLayer)            (None, 512)               256797824 \n",
            "                                                                 \n",
            " dense_6 (Dense)             (None, 64)                32832     \n",
            "                                                                 \n",
            " dense_7 (Dense)             (None, 1)                 65        \n",
            "                                                                 \n",
            "=================================================================\n",
            "Total params: 256,830,721\n",
            "Trainable params: 32,897\n",
            "Non-trainable params: 256,797,824\n",
            "_________________________________________________________________\n"
          ]
        }
      ],
      "source": [
        "model_6.summary()"
      ]
    },
    {
      "cell_type": "code",
      "execution_count": 74,
      "metadata": {
        "colab": {
          "base_uri": "https://localhost:8080/"
        },
        "id": "a2k_7k72iM9M",
        "outputId": "a05eeafd-402b-4772-bdca-431c7081bfab"
      },
      "outputs": [
        {
          "output_type": "stream",
          "name": "stdout",
          "text": [
            "Epoch 1/5\n",
            "159/159 [==============================] - 25s 143ms/step - loss: 0.4905 - accuracy: 0.8047 - val_loss: 0.3573 - val_accuracy: 0.8493\n",
            "Epoch 2/5\n",
            "159/159 [==============================] - 21s 134ms/step - loss: 0.3206 - accuracy: 0.8668 - val_loss: 0.3071 - val_accuracy: 0.8635\n",
            "Epoch 3/5\n",
            "159/159 [==============================] - 24s 149ms/step - loss: 0.2840 - accuracy: 0.8816 - val_loss: 0.2873 - val_accuracy: 0.8761\n",
            "Epoch 4/5\n",
            "159/159 [==============================] - 23s 143ms/step - loss: 0.2679 - accuracy: 0.8909 - val_loss: 0.2813 - val_accuracy: 0.8840\n",
            "Epoch 5/5\n",
            "159/159 [==============================] - 24s 148ms/step - loss: 0.2572 - accuracy: 0.8915 - val_loss: 0.2703 - val_accuracy: 0.8856\n"
          ]
        }
      ],
      "source": [
        "# Train the model 6 \n",
        "hist_6 = model_6.fit(X_train,\n",
        "                     Y_train,\n",
        "                     epochs=5,\n",
        "                     validation_data=(X_test, Y_test),\n",
        "                     )"
      ]
    },
    {
      "cell_type": "code",
      "execution_count": 75,
      "metadata": {
        "colab": {
          "base_uri": "https://localhost:8080/"
        },
        "id": "hF48Uzm1iYmr",
        "outputId": "3a9e2f85-5431-4cb9-9074-4c010a81829f"
      },
      "outputs": [
        {
          "output_type": "stream",
          "name": "stdout",
          "text": [
            "40/40 [==============================] - 5s 127ms/step\n"
          ]
        },
        {
          "output_type": "execute_result",
          "data": {
            "text/plain": [
              "array([[0.00177713],\n",
              "       [0.10047907],\n",
              "       [0.04949477],\n",
              "       [0.16965748],\n",
              "       [0.01278246],\n",
              "       [0.52259994],\n",
              "       [0.47958964],\n",
              "       [0.02061709],\n",
              "       [0.9158836 ],\n",
              "       [0.01590537]], dtype=float32)"
            ]
          },
          "metadata": {},
          "execution_count": 75
        }
      ],
      "source": [
        "# Make predictions with USE TF hub model\n",
        "model_6_pred_probs = model_6.predict(X_test)\n",
        "model_6_pred_probs[:10]"
      ]
    },
    {
      "cell_type": "code",
      "execution_count": 76,
      "metadata": {
        "colab": {
          "base_uri": "https://localhost:8080/"
        },
        "id": "HSn4dKHnjCG-",
        "outputId": "43035d51-42bb-4649-9738-f4f92c62e4aa"
      },
      "outputs": [
        {
          "output_type": "execute_result",
          "data": {
            "text/plain": [
              "<tf.Tensor: shape=(10,), dtype=float32, numpy=array([0., 0., 0., 0., 0., 1., 0., 0., 1., 0.], dtype=float32)>"
            ]
          },
          "metadata": {},
          "execution_count": 76
        }
      ],
      "source": [
        "# Convert the predictions prob to labbels\n",
        "model_6_preds = tf.squeeze(tf.round(model_6_pred_probs))\n",
        "model_6_preds[:10]"
      ]
    },
    {
      "cell_type": "code",
      "execution_count": 77,
      "metadata": {
        "colab": {
          "base_uri": "https://localhost:8080/"
        },
        "id": "0kVUlyBgjOAY",
        "outputId": "8ca8f478-d354-424e-e51d-8f73deca7b37"
      },
      "outputs": [
        {
          "output_type": "execute_result",
          "data": {
            "text/plain": [
              "{'Accuracy': 88.55564325177585,\n",
              " 'Precision': 88.59375,\n",
              " 'Recall': 88.73239436619718,\n",
              " 'F1-score': 88.66301798279908}"
            ]
          },
          "metadata": {},
          "execution_count": 77
        }
      ],
      "source": [
        "# Calculate model_6 metrics\n",
        "model_6_results = metrics(Y_test,\n",
        "                          model_6_preds)\n",
        "model_6_results"
      ]
    },
    {
      "cell_type": "markdown",
      "source": [
        "# Comparing the performance of each of the models\n",
        "\n"
      ],
      "metadata": {
        "id": "yBeFgTQ8tmbh"
      }
    },
    {
      "cell_type": "code",
      "source": [
        "# Combine the models results into a dataframe\n",
        "results = pd.DataFrame({\"Baseline\": baseline_results,\n",
        "                        \"Simple Dense\": model_1_results,\n",
        "                        \"LSTM\": model_2_results,\n",
        "                        \"GRU\": model_3_results,\n",
        "                        \"Bidirectional\": model_4_results,\n",
        "                        \"Conv1D\": model_5_results,\n",
        "                        \"USE_encoder\": model_6_results})\n",
        "\n",
        "results = results.transpose()\n",
        "results"
      ],
      "metadata": {
        "colab": {
          "base_uri": "https://localhost:8080/",
          "height": 269
        },
        "id": "Ion0j5PztrHA",
        "outputId": "32d438da-ec69-449a-b158-97e8e6d36095"
      },
      "execution_count": 80,
      "outputs": [
        {
          "output_type": "execute_result",
          "data": {
            "text/plain": [
              "                Accuracy  Precision     Recall   F1-score\n",
              "Baseline       81.689029  73.690338  99.061033  84.512684\n",
              "Simple Dense   88.713496  93.055556  83.881064  88.230453\n",
              "LSTM           90.528808  88.444444  93.427230  90.867580\n",
              "GRU            93.449092  91.993958  95.305164  93.620292\n",
              "Bidirectional  93.449092  94.694534  92.175274  93.417922\n",
              "Conv1D         92.580900  93.460925  91.705790  92.575039\n",
              "USE_encoder    88.555643  88.593750  88.732394  88.663018"
            ],
            "text/html": [
              "\n",
              "  <div id=\"df-68ef664b-90a4-41b2-b810-64ee050b728d\">\n",
              "    <div class=\"colab-df-container\">\n",
              "      <div>\n",
              "<style scoped>\n",
              "    .dataframe tbody tr th:only-of-type {\n",
              "        vertical-align: middle;\n",
              "    }\n",
              "\n",
              "    .dataframe tbody tr th {\n",
              "        vertical-align: top;\n",
              "    }\n",
              "\n",
              "    .dataframe thead th {\n",
              "        text-align: right;\n",
              "    }\n",
              "</style>\n",
              "<table border=\"1\" class=\"dataframe\">\n",
              "  <thead>\n",
              "    <tr style=\"text-align: right;\">\n",
              "      <th></th>\n",
              "      <th>Accuracy</th>\n",
              "      <th>Precision</th>\n",
              "      <th>Recall</th>\n",
              "      <th>F1-score</th>\n",
              "    </tr>\n",
              "  </thead>\n",
              "  <tbody>\n",
              "    <tr>\n",
              "      <th>Baseline</th>\n",
              "      <td>81.689029</td>\n",
              "      <td>73.690338</td>\n",
              "      <td>99.061033</td>\n",
              "      <td>84.512684</td>\n",
              "    </tr>\n",
              "    <tr>\n",
              "      <th>Simple Dense</th>\n",
              "      <td>88.713496</td>\n",
              "      <td>93.055556</td>\n",
              "      <td>83.881064</td>\n",
              "      <td>88.230453</td>\n",
              "    </tr>\n",
              "    <tr>\n",
              "      <th>LSTM</th>\n",
              "      <td>90.528808</td>\n",
              "      <td>88.444444</td>\n",
              "      <td>93.427230</td>\n",
              "      <td>90.867580</td>\n",
              "    </tr>\n",
              "    <tr>\n",
              "      <th>GRU</th>\n",
              "      <td>93.449092</td>\n",
              "      <td>91.993958</td>\n",
              "      <td>95.305164</td>\n",
              "      <td>93.620292</td>\n",
              "    </tr>\n",
              "    <tr>\n",
              "      <th>Bidirectional</th>\n",
              "      <td>93.449092</td>\n",
              "      <td>94.694534</td>\n",
              "      <td>92.175274</td>\n",
              "      <td>93.417922</td>\n",
              "    </tr>\n",
              "    <tr>\n",
              "      <th>Conv1D</th>\n",
              "      <td>92.580900</td>\n",
              "      <td>93.460925</td>\n",
              "      <td>91.705790</td>\n",
              "      <td>92.575039</td>\n",
              "    </tr>\n",
              "    <tr>\n",
              "      <th>USE_encoder</th>\n",
              "      <td>88.555643</td>\n",
              "      <td>88.593750</td>\n",
              "      <td>88.732394</td>\n",
              "      <td>88.663018</td>\n",
              "    </tr>\n",
              "  </tbody>\n",
              "</table>\n",
              "</div>\n",
              "      <button class=\"colab-df-convert\" onclick=\"convertToInteractive('df-68ef664b-90a4-41b2-b810-64ee050b728d')\"\n",
              "              title=\"Convert this dataframe to an interactive table.\"\n",
              "              style=\"display:none;\">\n",
              "        \n",
              "  <svg xmlns=\"http://www.w3.org/2000/svg\" height=\"24px\"viewBox=\"0 0 24 24\"\n",
              "       width=\"24px\">\n",
              "    <path d=\"M0 0h24v24H0V0z\" fill=\"none\"/>\n",
              "    <path d=\"M18.56 5.44l.94 2.06.94-2.06 2.06-.94-2.06-.94-.94-2.06-.94 2.06-2.06.94zm-11 1L8.5 8.5l.94-2.06 2.06-.94-2.06-.94L8.5 2.5l-.94 2.06-2.06.94zm10 10l.94 2.06.94-2.06 2.06-.94-2.06-.94-.94-2.06-.94 2.06-2.06.94z\"/><path d=\"M17.41 7.96l-1.37-1.37c-.4-.4-.92-.59-1.43-.59-.52 0-1.04.2-1.43.59L10.3 9.45l-7.72 7.72c-.78.78-.78 2.05 0 2.83L4 21.41c.39.39.9.59 1.41.59.51 0 1.02-.2 1.41-.59l7.78-7.78 2.81-2.81c.8-.78.8-2.07 0-2.86zM5.41 20L4 18.59l7.72-7.72 1.47 1.35L5.41 20z\"/>\n",
              "  </svg>\n",
              "      </button>\n",
              "      \n",
              "  <style>\n",
              "    .colab-df-container {\n",
              "      display:flex;\n",
              "      flex-wrap:wrap;\n",
              "      gap: 12px;\n",
              "    }\n",
              "\n",
              "    .colab-df-convert {\n",
              "      background-color: #E8F0FE;\n",
              "      border: none;\n",
              "      border-radius: 50%;\n",
              "      cursor: pointer;\n",
              "      display: none;\n",
              "      fill: #1967D2;\n",
              "      height: 32px;\n",
              "      padding: 0 0 0 0;\n",
              "      width: 32px;\n",
              "    }\n",
              "\n",
              "    .colab-df-convert:hover {\n",
              "      background-color: #E2EBFA;\n",
              "      box-shadow: 0px 1px 2px rgba(60, 64, 67, 0.3), 0px 1px 3px 1px rgba(60, 64, 67, 0.15);\n",
              "      fill: #174EA6;\n",
              "    }\n",
              "\n",
              "    [theme=dark] .colab-df-convert {\n",
              "      background-color: #3B4455;\n",
              "      fill: #D2E3FC;\n",
              "    }\n",
              "\n",
              "    [theme=dark] .colab-df-convert:hover {\n",
              "      background-color: #434B5C;\n",
              "      box-shadow: 0px 1px 3px 1px rgba(0, 0, 0, 0.15);\n",
              "      filter: drop-shadow(0px 1px 2px rgba(0, 0, 0, 0.3));\n",
              "      fill: #FFFFFF;\n",
              "    }\n",
              "  </style>\n",
              "\n",
              "      <script>\n",
              "        const buttonEl =\n",
              "          document.querySelector('#df-68ef664b-90a4-41b2-b810-64ee050b728d button.colab-df-convert');\n",
              "        buttonEl.style.display =\n",
              "          google.colab.kernel.accessAllowed ? 'block' : 'none';\n",
              "\n",
              "        async function convertToInteractive(key) {\n",
              "          const element = document.querySelector('#df-68ef664b-90a4-41b2-b810-64ee050b728d');\n",
              "          const dataTable =\n",
              "            await google.colab.kernel.invokeFunction('convertToInteractive',\n",
              "                                                     [key], {});\n",
              "          if (!dataTable) return;\n",
              "\n",
              "          const docLinkHtml = 'Like what you see? Visit the ' +\n",
              "            '<a target=\"_blank\" href=https://colab.research.google.com/notebooks/data_table.ipynb>data table notebook</a>'\n",
              "            + ' to learn more about interactive tables.';\n",
              "          element.innerHTML = '';\n",
              "          dataTable['output_type'] = 'display_data';\n",
              "          await google.colab.output.renderOutput(dataTable, element);\n",
              "          const docLink = document.createElement('div');\n",
              "          docLink.innerHTML = docLinkHtml;\n",
              "          element.appendChild(docLink);\n",
              "        }\n",
              "      </script>\n",
              "    </div>\n",
              "  </div>\n",
              "  "
            ]
          },
          "metadata": {},
          "execution_count": 80
        }
      ]
    },
    {
      "cell_type": "code",
      "source": [
        "# Plot and compare all the model results\n",
        "results.plot(kind=\"bar\", figsize=(10, 7)).legend(bbox_to_anchor=(1.0, 1.0));"
      ],
      "metadata": {
        "colab": {
          "base_uri": "https://localhost:8080/",
          "height": 681
        },
        "id": "JqV0tv06vbBn",
        "outputId": "40f65639-6b91-456b-cda1-79f421da54c8"
      },
      "execution_count": 83,
      "outputs": [
        {
          "output_type": "display_data",
          "data": {
            "text/plain": [
              "<Figure size 1000x700 with 1 Axes>"
            ],
            "image/png": "[encoded data removed]"
          },
          "metadata": {}
        }
      ]
    },
    {
      "cell_type": "code",
      "source": [
        "# Sorting all the model resutls by F1\n",
        "results.sort_values(\"F1-score\", ascending=False)[\"F1-score\"].plot(kind=\"bar\", figsize=(10, 7));"
      ],
      "metadata": {
        "colab": {
          "base_uri": "https://localhost:8080/",
          "height": 681
        },
        "id": "N3MQ3ndLv9CU",
        "outputId": "e5f4642f-db15-49ad-d24e-2460fa339b64"
      },
      "execution_count": 84,
      "outputs": [
        {
          "output_type": "display_data",
          "data": {
            "text/plain": [
              "<Figure size 1000x700 with 1 Axes>"
            ],
            "image/png": "[encoded data removed]"
          },
          "metadata": {}
        }
      ]
    },
    {
      "cell_type": "markdown",
      "source": [
        "# Making predictions on the test dataset"
      ],
      "metadata": {
        "id": "7rVNy9ok2TKb"
      }
    },
    {
      "cell_type": "code",
      "source": [
        "# Make predictions on the test dataset and visualizing them\n",
        "import random\n",
        "test_sentences = X_test.tolist()\n",
        "test_samples = random.sample(test_sentences, 5)\n",
        "for test_sample in test_samples:\n",
        "  pred_prob = tf.squeeze(model_3.predict([test_sample]))\n",
        "  pred = tf.round(pred_prob)\n",
        "  print(f\"Pred: {int(pred)}, Prob: {pred_prob}\")\n",
        "  print(f\"Text:\\n {test_sample}\\n\")\n",
        "  print(\"------------------------\\n\")"
      ],
      "metadata": {
        "colab": {
          "base_uri": "https://localhost:8080/"
        },
        "id": "QlO87EVY2fQK",
        "outputId": "756b33ec-087d-4176-b197-a8970688aaaf"
      },
      "execution_count": 108,
      "outputs": [
        {
          "output_type": "stream",
          "name": "stdout",
          "text": [
            "1/1 [==============================] - 0s 43ms/step\n",
            "Pred: 1, Prob: 0.8541103601455688\n",
            "Text:\n",
            " ['Clinton And The DNC: A Crisis Not Merely Survived, But Transcended\\n\\nWhen all was said and done, Team Hillary had to be pretty happy. Their four nights in Philadelphia turned out better than almost anyone expected.\\n\\nThursday night featured an orchestrated symphony of praise for Hillary Clinton and a precision-bombing of her opponent, Donald Trump.\\n\\nClinton\\'s own remarks at the conclusion will not enter the pantheon of great American prose or political rhetoric. But no one had been reserving a place there. More importantly, she provided a fitting conclusion to the proceedings, meeting her own mark and cutting a convincing figure as the nation\\'s first female president.\\n\\nThink of it this way: She got it done. No, she didn\\'t seem to be having fun doing it. Not half as much as Barack Obama did when setting the table for her the night before (and not to mention her husband, Bill, on Tuesday night). She did not have the magic Michelle Obama flashed on Monday night, when she moved the delegates and set the tone for a winning week.\\n\\nYet Hillary Clinton\\'s moment was the most important of all, the one that marked paid to the entire enterprise. And it played even better on TV than inside the convention hall. (More on why that was so, in a moment.)\\n\\nWhatever the judgment of the polls in the days ahead, the party\\'s quadrennial confab represented an achievement in careful and effective political management. It was not just crisis survived, but crisis transcended.\\n\\nLet us reflect for just a moment. Team Clinton and the Democratic National Committee hit town last weekend facing all kinds of bad weather.\\n\\nFirst, literally: A heat wave studded with violent thunder, lightning and downpours.\\n\\nSecond: A flood of bad publicity was unleashed with WikiLeaks\\' release of nearly 20,000 emails from DNC staffers that revealed bias against rival candidate Bernie Sanders. Long assumed, though often denied, this evidence of the DNC tilt broke the dam on Sanders fans\\' bitterness and resentment — and at that worst possible time.\\n\\nThird: Gale winds carried in the hot allegations and abuse from the Republican convention the previous week in Cleveland, where the catchphrase chanted regularly by the crowds was: \"Lock her up.\"\\n\\nAll in all, a troubled forecast.\\n\\nBut as people filed out of the Wells Fargo Center on Thursday night, most all of them seemed remarkably satisfied. Even many of the Sanders folks seemed resigned, or, at least, not overly disappointed. Most were also willing to vote against Trump, even if they couldn\\'t quite vote for Clinton.\\n\\nThe intervening days brought tense moments. The first afternoon, the Sanders forces were in full cry — booing every mention of Clinton\\'s name. There seemed to be little prospect for peace, and many opportunities for disruption and chaos.\\n\\nSanders\\' delegates arrived lacking the votes to contest the nomination, yet many seemed to believe Sanders might still win. They thought the release of the DNC emails proved Clinton\\'s nomination was rigged, and they imagined this would be enough to pry open the delegate allocations or persuade superdelegates to switch to Sanders.\\n\\nThese reactions overestimated the importance and power of the DNC, which was important in many ways, but far from critical, in determining who voted or how. Still, the WikiLeaks release served to confirm the suspicion that party rules and party rulers were somehow overruling the popular will of the people.\\n\\nIt was obvious that the DNC controversies fed into a Rules Committee decision to reduce the future numbers of superdelegates (elected officials and party leaders who are uncommitted participants in the nominating convention and may vote their own conscience). In 2020, such delegates will be reduced from 720 to 250.\\n\\nBut negotiations were going forward even then. Sanders\\' people were talking, and there were delegation leaders willing to work overtime to heal wounds. Sanders himself, having already formally conceded, intervened to urge his delegates to show respect, if only to preserve the gains they had made as a movement.\\n\\nBy Thursday night, the convention organizers had perfected their defense against the hardcore of holdouts. Where the Sanders people wore bright yellow shirts to set themselves apart and held up signs protesting fracking or trade deals, the Clinton delegates sprouted American flags to wave about. There were also much larger American flags on poles that seemed to appear just in front of the more visible concentrations of Sanders people.\\n\\nOutside, throughout the four days, there were thousands of protesters from Black Lives Matter and anti-war, anti-capitalist, anti-fracking and just plain anti-Clinton groups.\\n\\nThey were kept away from the hall by barriers and police, but they did dump a mock coffin labeled \"DNC\" over one fence. Police arrested a handful and issued citations to dozens more. They did not manage to make much impression on those inside the arena.\\n\\nDespite all this, there remained the thought that \"more unites us than divides us,\" to quote candidate Clinton in one of her early appeals to Sanders supporters.\\n\\nFor many Democrats, the \"more unites us\" argument matters but does not truly motivate. What focuses their minds is the prospect of losing the White House this fall. While never welcome, that prospect has become truly disconcerting to them with Trump\\'s takeover of the GOP.\\n\\nWhenever the energy of the week seemed to flag, a fresh assault on Trump revitalized the proceedings. On the final night, the program reached an early emotional peak with the testimony of Khizr Khan, the father of a young U.S. Army captain killed protecting his troops from a truck bomb.\\n\\nThe father stood onstage with his wife and calmly, haltingly voiced his rage at Trump\\'s proposed ban on Muslim immigration.\\n\\nKhan held up his personal copy of the U.S. Constitution to offer it to Trump, questioning whether the Republican had ever read it. He also wondered whether Trump had ever visited Arlington Cemetery to see what other people had sacrificed for their country, adding: \"You have sacrificed nothing and no one.\"\\n\\nIn fact, much of the program on stage this week in Philly was clearly meant to appeal to disaffected Republicans left feeling a chill last week in Cleveland. A basic element of this appeal was the robust embrace of traditional patriotism, its rhetoric and symbols.\\n\\nFor example, on Thursday night the program offered retired Marine Gen. John Allen, an old-school combat commander who stood onstage with 37 other veterans of the Iraq and Afghanistan wars. Allen announced his support for Clinton in full-throated and almost apocalyptic terms, while his silent chorus nodded and applauded behind him.\\n\\nRich Galen, a longtime Republican operative who was a spokesman for former Vice President Dick Cheney, sent a tweet saying he was watching from his kitchen Thursday night in tears because the Democrats\\' convention looked more like his party than the event he saw in Cleveland last week. He was far from alone.\\n\\nLongtime GOP strategist and campaign handler Stuart Stevens tweeted that Thursday night looked more like the last night of the 2004 convention in New York than anything he had seen in Cleveland. That was the last year the Republicans won the presidential election.\\n\\nFor those who spent weeks and months — and then critical hours — making the 2016 Democratic National Convention a success, it was not just a job. But in the first predawn hours after it ended, they could at least congratulate themselves on having done their job well.']\n",
            "\n",
            "------------------------\n",
            "\n",
            "1/1 [==============================] - 0s 39ms/step\n",
            "Pred: 0, Prob: 0.11399874836206436\n",
            "Text:\n",
            " ['About 90 minutes before the vice-presidential debate started, the Republican National Committee posted a press release claiming that Donald Trump\\'s running mate, Mike Pence, \"was the clear winner of the debate.\"\\n\\nThat sort of stunt and Tim Kaine\\'s painfully unfunny and hyper-scripted one-liners help explain why the Republican and Democratic candidates are disliked by large majorities and why party identification is at or near historic lows. Full debate transcript here.\\n\\nWe don\\'t simply need politicians talking over one another like guests on a public-access cable show, we need more voices on the stage having substantive discussions about the future of the country. We didn\\'t get that with the vice-presidential debate and it\\'s unlikely we\\'ll get it in next week\\'s presidential debate either.\\n\\nProduced by Paul Detrick, Nick Gillespie, and Joshua Swain. Narrated by Gillespie. About 50 seconds.\\n\\nUpdated: For those keeping score, a CNN/ORC poll taken immediately following the debate had Pence winning the debate, 48 percent to 42 percent for Kaine.']\n",
            "\n",
            "------------------------\n",
            "\n",
            "1/1 [==============================] - 0s 36ms/step\n",
            "Pred: 0, Prob: 0.02778036892414093\n",
            "Text:\n",
            " ['Waking Times \\nThe political system we have today is not the democratic republic it pretends to be. National elections are orchestrated public relations events, engineered to serve the complex interests of the plutocracy and shadow government . The perception of differences between major party candidates is limited to within a narrow spectrum of mainstream ideology, and voting has become a tool used by the oligarchy to routinely refresh the illusions of choice and consent. \\nIndoctrinated to believe this system is mandatory for human prosperity and security, consideration of alternatives is practically unthinkable to the citizenry. Most have their entire lives and fortunes invested in this game, and as such, a truth this heavy is simply too much to process and too painful to accept. Obedience and compliance to state and culture have their sleepy, comfortable perks, but the natural inclination of the human spirit is to gravitate towards truth and freedom. When this is ignored or denied, inner peace is impossible, and outer chaos inevitable. \\nFor this, the free-thinker will always emerge as the winner in a contest against the statist, for, it is the soul who needs no illusions and carries no attachments which can look upon the ashes of ruin and give them credit for being the first signs of new bloom. \\nNow that the unbelievable spectacle of election 2016 is complete, here are some critical things that free-thinkers can take away from this rather insane and revelatory experience. \\n1.) The mainstream, corporate media is unashamedly here to convince and distract you, not to inform or empower you. Most media outlets, including many alternative outlets, have fully exposed themselves as partisan organizations with no commitment to objectivity or logic. We are at last free from the chokehold of this organized form of propaganda and ideological occupation. \\n2.) People still do not yet understand the true nature of government as an organization which derives its power and authority from the superior application of violence. They don’t yet fully understand that in order for government to offer a solution to a problem, it must first create that very problem. Many are still unready to admit that we are ruled by a plutocratic, oligarchical, corporate state that does not take orders from elected politicians. \\nBecause of this, there are now plenty of opportunities to inspire and awaken people with serious information. \\n3.) Social chaos and mindless incivility has been properly revealed as a reflection of inner chaos, fear and disharmony. It’s clear now that many have been trained to choose team loyalty over personal independence. To choose destructiveness instead of creativity, to build echo chambers instead of round tables, to relish conflict over curiosity, and to seek the comfort of group-think over the uncertainty of individuality. \\nThese programs are socially engineered diseases and their chief symptoms are violence in word and deed. This is out in the open now, for those who have eyes to see and ears to hear. \\n“We have met the enemy, and he is us.” ~ Pogo \\n4.) There is no place on planet earth where free-thinking people can enjoy voluntary community and peaceful coexistence without interference by the state and its sympathizers. Sad, but true. The entire world is colonized by statist ideology and there is no where to run or hide from this mindset. Yet, there is sufficient living freedom in this revelation alone, because from anywhere now, we can openly engage in any one of a million simple acts of revolution and independence , and they will be witnessed and absorbed by those most in need. \\n5.) At long last, some of the darkest, ugliest and most difficult to look at issues are bubbling up into mainstream consciousness. The long and well-documented history of occultism , pedophilia, human-trafficking, human sacrifice, Satan worship and dark ritual among the world’s ruling elite can finally be openly discussed without instant mindless backlash. The proverbial black cat is out of the bag now, and there has never been a better time to participate in the work of waking people up to the high crimes of the elite. Final Thoughts \\nIn 2016 your personal awakening counts more than your vote , for the only thing that can turn the tide on endless war, unstoppable surveillance, the strategy of tension, weaponized stress , environmental ruin, and unchecked debt-slavery, is a large enough and spiritied enough class of fearless, righteous individuals. Until free humanity emerges victorious from the mental slavery of the state, we will get the president that we deserve. \\nEnjoy this excellent elucidation of this point by Carey Wedler: Read more articles by Dylan Charles . About the Author \\nDylan Charles is a student and teacher of Shaolin Kung Fu, Tai Chi and Qi Gong, a practitioner of Yoga and Taoist arts, and an activist and idealist passionately engaged in the struggle for a more sustainable and just world for future generations. He is the editor of WakingTimes.com , the proprietor of OffgridOutpost.com , a grateful father and a man who seeks to enlighten others with the power of inspiring information and action. He may be contacted at . This article ( 5 Key Revelations for Free Thinkers to Consider After Election 2016 ) was originally created and published by Waking Times and is published here under a Creative Commons license with attribution to Dylan Charles and WakingTimes.com . It may be re-posted freely with proper attribution, author bio, and this copyright statement. \\n~~ Help Waking Times to raise the vibration by sharing this article with friends and family…']\n",
            "\n",
            "------------------------\n",
            "\n",
            "1/1 [==============================] - 0s 50ms/step\n",
            "Pred: 0, Prob: 0.2794460356235504\n",
            "Text:\n",
            " ['The words, when they came, had lost no power over a week of build-up, or almost a decade of rehearsal. “So it is with humility, determination and boundless confidence in America’s promise that I accept your nomination for president of the United States,” said Hillary Clinton – the first American to stand on the brink of being called madame president.\\n\\n\\n\\nThere were no gimmicks. No more videos of breaking glass. Just a familiar face in a trademark white suit, standing in a very unfamiliar spot.\\n\\n“When there are no ceilings, the sky’s the limit,” she acknowledged briefly, before, eventually, the ceiling seemed to fall in, covering the floor of Philadelphia’s Wells Fargo arena in a carpet of red, white and blue balloons so thick, the candidate almost disappeared from view.\\n\\nBy the end of an hour-long acceptance speech, there were children on stage; some of them, daughters smuggled in by fathers to witness an undoubted leap forward along the long road to equality in America.\\n\\nClinton herself dwelled little on the symbolism of her acceptance speech – save for a cry of “Deal me in!” which was taken up lustily by the crowd. Instead, she went straight to her first big exposition of what she would do if she actually wins in November, including a jobs program and investment in infrastructure.\\n\\n“To drive real progress, you have to change both hearts and laws,” she said, in clear contrast to the idealistic promises of her primary opponent Bernie Sanders and the big-talking Republican enemy Donald Trump.\\n\\nThe US, Clinton said, was “at a moment of reckoning” as she called on voters to reject Trump’s divisive rhetoric and policies. “Powerful forces are threatening to pull us apart, bonds of trust and respect are fraying,” she said.\\n\\nBut it was also a moment to turn slowly away from Barack Obama, a man who only a day before had helped the campaign reclaim the mantle of patriotism from Trump. Now it was time for Clinton to do the same with the economy.\\n\\n“Democrats, we are the party of working people but we haven’t done a good enough job showing that we get what you’re going through, and that we’re going to do something about it,” she said.\\n\\n“There’s a lot to do,” acknowledged Clinton, a departure from the campaign’s recent insistence that Trump was exaggerating the pain felt by working families. “Too many people haven’t had a pay raise since the crash.”\\n\\nShe added: “Some of you are frustrated – even furious. And you know what? You’re right.”\\n\\nTo the confusion of a diehard band of Bernie Sanders supporters in luminous T-shirts, who sought to disrupt the speech, they were forced instead to pause and, even once or twice, applaud when Clinton presented an unashamedly liberal and populist vision of America.\\n\\n“If you believe that we should say ‘no’ to unfair trade deals, that we should stand up to China, that we should support our steelworkers and autoworkers and homegrown manufacturers – join us,” said Clinton, in clear appeal to both right and left incarnations of the pitchfork outbreak sweeping the country in this election cycle.\\n\\n“Whatever party you belong to, or if you belong to no party at all, if you share these beliefs, this is your campaign,” she added, promising she would be a president for all Americans, whether they voted for her or not.\\n\\nBut taking Trump’s appeal seriously was not the same as taking Trump seriously.\\n\\nAn increasingly confident Clinton was merciless in skewering the celebrity billionaire as a “little man”.\\n\\n“Really? ‘I alone can fix it?’” she asked at one point, letting the questions hang there as a description of everything that is absurd about this close-fought election race.\\n\\n“He spoke for 70-odd minutes – and I do mean odd,” she continued, eliciting the kind of laughter that was bound to produce a reaction from the man himself, and did.\\n\\n“Imagine him, if you dare, imagine him in the Oval Office facing a real crisis. A man you can bait with a tweet is not a man we can trust with nuclear weapons,” anticipated Clinton.\\n\\nHe might be a joke, she said, but his appeal was not. “For the past year, many people made the mistake of laughing off Donald Trump’s comments – excusing him as an entertainer just putting on a show,” warned the former secretary of state. “Here’s the sad truth: there is no other Donald Trump. This is it.”\\n\\nThe laughs came naturally for a crowd that warmed to a rare display of comic timing from Clinton: “Donald Trump says he wants to make America great again – well, he could start by actually making things in America again.”\\n\\nThere was a little shake of the head as if to say “duh” when she said: “I believe in science,” and rejected the denial of climate change in another year of temperature records smashed.\\n\\nShe turned to another first lady, Jackie Kennedy, for the insult that may yet stick. “She said that what worried President Kennedy during that very dangerous time was that a war might be started – not by big men with self-control and restraint, but by little men, the ones moved by fear and pride.”\\n\\nOver the course of the evening, Trump was called many names. “A political pyromaniac”, said Los Angeles mayor Eric Garcetti, who suggested Trump should build his wall around the whole city.\\n\\n“Hillary Clinton knows how to fight back against dangerous, loudmouth bullies ... She doesn’t run to Twitter to give people badmouth nicknames,” said Elizabeth Warren, who had been on the receiving end.\\n\\nSome of Clinton’s own putdowns would end another campaign overnight. But this is a teflon Don, seemingly able to say anything without consequence, so Clinton refused the temptation to indulge in excessive Trump-bashing, preferring to paint her own vision.\\n\\nThere was plenty of policy: a bold promise to introduce the biggest jobs program since the second world war in her first 100 days as president, and invest money in infrastructure projects and political capital in gun control.\\n\\n\\n\\nRejecting the dangerously persistent notion that she simply wanted to be president because it was her turn, Clinton also used much of the packed speech to describe her real motivation.\\n\\nIntroduced by her daughter, Chelsea, she continued the week’s highly personal theme, by pinning this political philosophy on her own mother, Dorothy.\\n\\n“She made sure I learned the words of our Methodist faith,” said the nominee. “Do all the good you can, for all the people you can, in all the ways you can, as long as ever you can.”\\n\\nThe moral vision continued to help defuse the still simmering revolt on the left, where a rump of Sanders supporters were largely drowned out in their attempt to disrupt the night.\\n\\n“I want to thank Bernie Sanders,” said Clinton. “Bernie, your campaign inspired millions of Americans, particularly the young people who threw their hearts and souls into our primary.”\\n\\nMostly she ignored disruptions that were more noticeable in the hall than on television.\\n\\nBy the end, the chants were no longer papering over the cracks in the party, but rolling expressions of real enthusiasm waving up and down the stadium.\\n\\nThe crowd had been fired up earlier in the evening by another speech that could easily have been at home in a Sanders rally. “We are being called upon by our foremothers and fathers to be the moral defibrillator,” said Rev William Barber. “We cannot give up on the heart of democracy, not now, not ever … We need to fight for the heart of this nation.”\\n\\nBut it was the calm nobility of Khizr Khan, whose son died serving the US military in Iraq, who summed up why Clinton was really running – accusing Trump of “smearing the character” of patriotic American Muslims.\\n\\n“Donald Trump, let me ask you: have you even read the US constitution? I will gladly lend you my copy. Look for the words ‘liberty’ and ‘equal protection under the law’,” said Khan.\\n\\nInstead, Clinton made clear she would be a “president for Democrats, Republicans, and independents”.\\n\\n“For the struggling, the striving, the successful. For those who vote for me and those who don’t. Whatever party you belong to, or if you belong to no party at all, if you share these beliefs, this is your campaign. For all Americans,” she said.\\n\\nAppealing to those Reagan Democrats of a different age, Clinton said of Trump: “He’s taken the Republican party a long way – from ‘Morning in America’ to ‘Midnight in America’.\\n\\n“He wants us to fear the future and fear each other. Well, a great Democratic president, Franklin Delano Roosevelt, came up with the perfect rebuke to Trump more than 80 years ago, during a much more perilous time: ‘The only thing we have to fear is fear itself.’”']\n",
            "\n",
            "------------------------\n",
            "\n",
            "1/1 [==============================] - 0s 40ms/step\n",
            "Pred: 0, Prob: 0.013762040995061398\n",
            "Text:\n",
            " [\"Newsbud does great work, so send them a few bucks if you can. They're the real deal. \\nHere is a message from the founder of Newsbud, Sibel Edmond: \\nWe have launched our new Kickstarter campaign, and we need your help again. We have 35 days to raise $130,000, and we know we can do it with your support! \\nWe have taken an enormous step forward thanks to your funding of our Phase 1 campaign. Now we need your help to achieve this next step so we can continue building our 100% people-funded independent media outlet. \\nPlease help. Make a pledge and put the word out by telling everyone in your social-media networks. \\nWithout you, we cannot achieve our dream of a media outlet that is nonpartisan and accountable only to its viewers and to the truth. Make a donation, subscribe, and activate others. They have rendered we the people irrelevant; together, we will make them irrelevant! \\nThank you for all your support,Sibel Edmond\"]\n",
            "\n",
            "------------------------\n",
            "\n"
          ]
        }
      ]
    }
  ],
  "metadata": {
    "accelerator": "GPU",
    "colab": {
      "provenance": [],
      "authorship_tag": "ABX9TyOKob+nP+K64uO5KHU+5+xF",
      "include_colab_link": true
    },
    "gpuClass": "standard",
    "kernelspec": {
      "display_name": "Python 3",
      "name": "python3"
    },
    "language_info": {
      "name": "python"
    }
  },
  "nbformat": 4,
  "nbformat_minor": 0
}